{
 "cells": [
  {
   "cell_type": "code",
   "execution_count": 1,
   "metadata": {},
   "outputs": [
    {
     "name": "stderr",
     "output_type": "stream",
     "text": [
      "/Library/Frameworks/Python.framework/Versions/3.8/lib/python3.8/site-packages/gensim/similarities/__init__.py:15: UserWarning: The gensim.similarities.levenshtein submodule is disabled, because the optional Levenshtein package <https://pypi.org/project/python-Levenshtein/> is unavailable. Install Levenhstein (e.g. `pip install python-Levenshtein`) to suppress this warning.\n",
      "  warnings.warn(msg)\n"
     ]
    }
   ],
   "source": [
    "import pandas as pd\n",
    "import numpy as np\n",
    "from nltk import word_tokenize\n",
    "from gensim.corpora import Dictionary\n",
    "from gensim.models import Word2Vec\n",
    "from wordcloud import WordCloud, STOPWORDS, ImageColorGenerator\n",
    "import nltk\n",
    "from nltk.corpus import stopwords\n",
    "#nltk.download('stopwords')\n",
    "from nltk.tokenize import word_tokenize\n",
    "import matplotlib.pyplot as plt\n",
    "import nltk\n",
    "import ssl\n",
    "import spacy\n",
    "#try:\n",
    "#    _create_unverified_https_context = ssl._create_unverified_context\n",
    "#except AttributeError:\n",
    "#    pass\n",
    "#else:\n",
    "#    ssl._create_default_https_context = _create_unverified_https_context\n",
    "\n",
    "#nltk.download()\n",
    "\n",
    "import re\n",
    "from sklearn.feature_extraction.text import TfidfVectorizer\n",
    "#nltk.download('punkt')\n",
    "#nltk.download()"
   ]
  },
  {
   "cell_type": "code",
   "execution_count": 2,
   "metadata": {},
   "outputs": [],
   "source": [
    "from textblob import TextBlob"
   ]
  },
  {
   "cell_type": "code",
   "execution_count": 2,
   "metadata": {},
   "outputs": [],
   "source": [
    "#data3 = pd.read_csv('clean_monsters.csv')"
   ]
  },
  {
   "cell_type": "code",
   "execution_count": 4,
   "metadata": {},
   "outputs": [],
   "source": [
    "desc = pd.read_csv('monster_desc.csv')"
   ]
  },
  {
   "cell_type": "code",
   "execution_count": 5,
   "metadata": {},
   "outputs": [],
   "source": [
    "gender = pd.read_csv('monster_gen.csv')"
   ]
  },
  {
   "cell_type": "code",
   "execution_count": 6,
   "metadata": {},
   "outputs": [
    {
     "data": {
      "text/html": [
       "<div>\n",
       "<style scoped>\n",
       "    .dataframe tbody tr th:only-of-type {\n",
       "        vertical-align: middle;\n",
       "    }\n",
       "\n",
       "    .dataframe tbody tr th {\n",
       "        vertical-align: top;\n",
       "    }\n",
       "\n",
       "    .dataframe thead th {\n",
       "        text-align: right;\n",
       "    }\n",
       "</style>\n",
       "<table border=\"1\" class=\"dataframe\">\n",
       "  <thead>\n",
       "    <tr style=\"text-align: right;\">\n",
       "      <th></th>\n",
       "      <th>key</th>\n",
       "      <th>dev_en</th>\n",
       "    </tr>\n",
       "  </thead>\n",
       "  <tbody>\n",
       "    <tr>\n",
       "      <th>0</th>\n",
       "      <td>monster_AoLoong_descriptionKey</td>\n",
       "      <td>Tired of being a New-Year-Parade Dragon, Ao Lo...</td>\n",
       "    </tr>\n",
       "    <tr>\n",
       "      <th>1</th>\n",
       "      <td>monster_ArchKnight_descriptionKey</td>\n",
       "      <td>Behold the defender of light!  This apparition...</td>\n",
       "    </tr>\n",
       "    <tr>\n",
       "      <th>2</th>\n",
       "      <td>monster_Arnu_descriptionKey</td>\n",
       "      <td>The poisonous sweat that Arnu produces causes ...</td>\n",
       "    </tr>\n",
       "    <tr>\n",
       "      <th>3</th>\n",
       "      <td>monster_Aurinia_descriptionKey</td>\n",
       "      <td>Aurinia belongs to a dynasty of druids. She is...</td>\n",
       "    </tr>\n",
       "    <tr>\n",
       "      <th>4</th>\n",
       "      <td>monster_Beefcake_descriptionKey</td>\n",
       "      <td>The rocks are alive! The Beefcake is the most ...</td>\n",
       "    </tr>\n",
       "  </tbody>\n",
       "</table>\n",
       "</div>"
      ],
      "text/plain": [
       "                                 key  \\\n",
       "0     monster_AoLoong_descriptionKey   \n",
       "1  monster_ArchKnight_descriptionKey   \n",
       "2        monster_Arnu_descriptionKey   \n",
       "3     monster_Aurinia_descriptionKey   \n",
       "4    monster_Beefcake_descriptionKey   \n",
       "\n",
       "                                              dev_en  \n",
       "0  Tired of being a New-Year-Parade Dragon, Ao Lo...  \n",
       "1  Behold the defender of light!  This apparition...  \n",
       "2  The poisonous sweat that Arnu produces causes ...  \n",
       "3  Aurinia belongs to a dynasty of druids. She is...  \n",
       "4  The rocks are alive! The Beefcake is the most ...  "
      ]
     },
     "execution_count": 6,
     "metadata": {},
     "output_type": "execute_result"
    }
   ],
   "source": [
    "desc.head()"
   ]
  },
  {
   "cell_type": "code",
   "execution_count": 7,
   "metadata": {},
   "outputs": [
    {
     "data": {
      "text/html": [
       "<div>\n",
       "<style scoped>\n",
       "    .dataframe tbody tr th:only-of-type {\n",
       "        vertical-align: middle;\n",
       "    }\n",
       "\n",
       "    .dataframe tbody tr th {\n",
       "        vertical-align: top;\n",
       "    }\n",
       "\n",
       "    .dataframe thead th {\n",
       "        text-align: right;\n",
       "    }\n",
       "</style>\n",
       "<table border=\"1\" class=\"dataframe\">\n",
       "  <thead>\n",
       "    <tr style=\"text-align: right;\">\n",
       "      <th></th>\n",
       "      <th>Name</th>\n",
       "      <th>Gender</th>\n",
       "    </tr>\n",
       "  </thead>\n",
       "  <tbody>\n",
       "    <tr>\n",
       "      <th>0</th>\n",
       "      <td>Treezard</td>\n",
       "      <td>NEUTRAL</td>\n",
       "    </tr>\n",
       "    <tr>\n",
       "      <th>1</th>\n",
       "      <td>Firesaur</td>\n",
       "      <td>MALE</td>\n",
       "    </tr>\n",
       "    <tr>\n",
       "      <th>2</th>\n",
       "      <td>Greenasaur</td>\n",
       "      <td>FEMALE</td>\n",
       "    </tr>\n",
       "    <tr>\n",
       "      <th>3</th>\n",
       "      <td>Pandaken</td>\n",
       "      <td>MALE</td>\n",
       "    </tr>\n",
       "    <tr>\n",
       "      <th>4</th>\n",
       "      <td>Rockilla</td>\n",
       "      <td>NEUTRAL</td>\n",
       "    </tr>\n",
       "  </tbody>\n",
       "</table>\n",
       "</div>"
      ],
      "text/plain": [
       "         Name   Gender\n",
       "0    Treezard  NEUTRAL\n",
       "1    Firesaur     MALE\n",
       "2  Greenasaur   FEMALE\n",
       "3    Pandaken     MALE\n",
       "4    Rockilla  NEUTRAL"
      ]
     },
     "execution_count": 7,
     "metadata": {},
     "output_type": "execute_result"
    }
   ],
   "source": [
    "gender.head()"
   ]
  },
  {
   "cell_type": "code",
   "execution_count": 8,
   "metadata": {
    "scrolled": true
   },
   "outputs": [
    {
     "name": "stdout",
     "output_type": "stream",
     "text": [
      "(5022, 2)\n",
      "(887, 2)\n"
     ]
    }
   ],
   "source": [
    "print(desc.shape)\n",
    "print(gender.shape)"
   ]
  },
  {
   "cell_type": "code",
   "execution_count": 9,
   "metadata": {},
   "outputs": [],
   "source": [
    "#First clean description data frame "
   ]
  },
  {
   "cell_type": "code",
   "execution_count": 10,
   "metadata": {},
   "outputs": [],
   "source": [
    "desc = desc[desc['key'].str.contains(\"descriptionKey\")]\n",
    "desc = desc[desc['key'].str.contains(\"monster\")]"
   ]
  },
  {
   "cell_type": "code",
   "execution_count": 11,
   "metadata": {},
   "outputs": [
    {
     "name": "stdout",
     "output_type": "stream",
     "text": [
      "this_is_a_text\n"
     ]
    }
   ],
   "source": [
    "txt = \"this_is_a_text\"\n",
    "print(txt)"
   ]
  },
  {
   "cell_type": "code",
   "execution_count": 12,
   "metadata": {},
   "outputs": [],
   "source": [
    "def get_name(string):\n",
    "    new_string = string.str.lower().str.replace('_', ' ').str.split().str[1]\n",
    "    return new_string"
   ]
  },
  {
   "cell_type": "code",
   "execution_count": 13,
   "metadata": {},
   "outputs": [],
   "source": [
    "d = (desc\n",
    "     .assign(\n",
    "    name=lambda x: get_name(x['key'])\n",
    "    )\n",
    ")"
   ]
  },
  {
   "cell_type": "code",
   "execution_count": 14,
   "metadata": {},
   "outputs": [
    {
     "data": {
      "text/html": [
       "<div>\n",
       "<style scoped>\n",
       "    .dataframe tbody tr th:only-of-type {\n",
       "        vertical-align: middle;\n",
       "    }\n",
       "\n",
       "    .dataframe tbody tr th {\n",
       "        vertical-align: top;\n",
       "    }\n",
       "\n",
       "    .dataframe thead th {\n",
       "        text-align: right;\n",
       "    }\n",
       "</style>\n",
       "<table border=\"1\" class=\"dataframe\">\n",
       "  <thead>\n",
       "    <tr style=\"text-align: right;\">\n",
       "      <th></th>\n",
       "      <th>key</th>\n",
       "      <th>dev_en</th>\n",
       "      <th>name</th>\n",
       "    </tr>\n",
       "  </thead>\n",
       "  <tbody>\n",
       "    <tr>\n",
       "      <th>0</th>\n",
       "      <td>monster_AoLoong_descriptionKey</td>\n",
       "      <td>Tired of being a New-Year-Parade Dragon, Ao Lo...</td>\n",
       "      <td>aoloong</td>\n",
       "    </tr>\n",
       "    <tr>\n",
       "      <th>1</th>\n",
       "      <td>monster_ArchKnight_descriptionKey</td>\n",
       "      <td>Behold the defender of light!  This apparition...</td>\n",
       "      <td>archknight</td>\n",
       "    </tr>\n",
       "    <tr>\n",
       "      <th>2</th>\n",
       "      <td>monster_Arnu_descriptionKey</td>\n",
       "      <td>The poisonous sweat that Arnu produces causes ...</td>\n",
       "      <td>arnu</td>\n",
       "    </tr>\n",
       "    <tr>\n",
       "      <th>3</th>\n",
       "      <td>monster_Aurinia_descriptionKey</td>\n",
       "      <td>Aurinia belongs to a dynasty of druids. She is...</td>\n",
       "      <td>aurinia</td>\n",
       "    </tr>\n",
       "    <tr>\n",
       "      <th>4</th>\n",
       "      <td>monster_Beefcake_descriptionKey</td>\n",
       "      <td>The rocks are alive! The Beefcake is the most ...</td>\n",
       "      <td>beefcake</td>\n",
       "    </tr>\n",
       "  </tbody>\n",
       "</table>\n",
       "</div>"
      ],
      "text/plain": [
       "                                 key  \\\n",
       "0     monster_AoLoong_descriptionKey   \n",
       "1  monster_ArchKnight_descriptionKey   \n",
       "2        monster_Arnu_descriptionKey   \n",
       "3     monster_Aurinia_descriptionKey   \n",
       "4    monster_Beefcake_descriptionKey   \n",
       "\n",
       "                                              dev_en        name  \n",
       "0  Tired of being a New-Year-Parade Dragon, Ao Lo...     aoloong  \n",
       "1  Behold the defender of light!  This apparition...  archknight  \n",
       "2  The poisonous sweat that Arnu produces causes ...        arnu  \n",
       "3  Aurinia belongs to a dynasty of druids. She is...     aurinia  \n",
       "4  The rocks are alive! The Beefcake is the most ...    beefcake  "
      ]
     },
     "execution_count": 14,
     "metadata": {},
     "output_type": "execute_result"
    }
   ],
   "source": [
    "d.head()"
   ]
  },
  {
   "cell_type": "code",
   "execution_count": 15,
   "metadata": {},
   "outputs": [],
   "source": [
    "g = (gender\n",
    "     .assign(\n",
    "    name= lambda x: x['Name'].str.lower(),\n",
    "    Gender= lambda x: x['Gender'].str.lower())\n",
    ")"
   ]
  },
  {
   "cell_type": "code",
   "execution_count": 16,
   "metadata": {},
   "outputs": [],
   "source": [
    "df = pd.merge(d,g, on = 'name')"
   ]
  },
  {
   "cell_type": "code",
   "execution_count": 17,
   "metadata": {},
   "outputs": [
    {
     "data": {
      "text/html": [
       "<div>\n",
       "<style scoped>\n",
       "    .dataframe tbody tr th:only-of-type {\n",
       "        vertical-align: middle;\n",
       "    }\n",
       "\n",
       "    .dataframe tbody tr th {\n",
       "        vertical-align: top;\n",
       "    }\n",
       "\n",
       "    .dataframe thead th {\n",
       "        text-align: right;\n",
       "    }\n",
       "</style>\n",
       "<table border=\"1\" class=\"dataframe\">\n",
       "  <thead>\n",
       "    <tr style=\"text-align: right;\">\n",
       "      <th></th>\n",
       "      <th>key</th>\n",
       "      <th>dev_en</th>\n",
       "      <th>name</th>\n",
       "      <th>Name</th>\n",
       "      <th>Gender</th>\n",
       "    </tr>\n",
       "  </thead>\n",
       "  <tbody>\n",
       "    <tr>\n",
       "      <th>0</th>\n",
       "      <td>monster_Arnu_descriptionKey</td>\n",
       "      <td>The poisonous sweat that Arnu produces causes ...</td>\n",
       "      <td>arnu</td>\n",
       "      <td>Arnu</td>\n",
       "      <td>male</td>\n",
       "    </tr>\n",
       "    <tr>\n",
       "      <th>1</th>\n",
       "      <td>monster_Aurinia_descriptionKey</td>\n",
       "      <td>Aurinia belongs to a dynasty of druids. She is...</td>\n",
       "      <td>aurinia</td>\n",
       "      <td>Aurinia</td>\n",
       "      <td>female</td>\n",
       "    </tr>\n",
       "    <tr>\n",
       "      <th>2</th>\n",
       "      <td>monster_Beefcake_descriptionKey</td>\n",
       "      <td>The rocks are alive! The Beefcake is the most ...</td>\n",
       "      <td>beefcake</td>\n",
       "      <td>Beefcake</td>\n",
       "      <td>neutral</td>\n",
       "    </tr>\n",
       "    <tr>\n",
       "      <th>3</th>\n",
       "      <td>monster_Blesstle_descriptionKey</td>\n",
       "      <td>The Blesstle, the Water Realm's ambassadors of...</td>\n",
       "      <td>blesstle</td>\n",
       "      <td>Blesstle</td>\n",
       "      <td>neutral</td>\n",
       "    </tr>\n",
       "    <tr>\n",
       "      <th>4</th>\n",
       "      <td>monster_Bloomskips_descriptionKey</td>\n",
       "      <td>Bloomskips feel at home when popping out of da...</td>\n",
       "      <td>bloomskips</td>\n",
       "      <td>Bloomskips</td>\n",
       "      <td>male</td>\n",
       "    </tr>\n",
       "  </tbody>\n",
       "</table>\n",
       "</div>"
      ],
      "text/plain": [
       "                                 key  \\\n",
       "0        monster_Arnu_descriptionKey   \n",
       "1     monster_Aurinia_descriptionKey   \n",
       "2    monster_Beefcake_descriptionKey   \n",
       "3    monster_Blesstle_descriptionKey   \n",
       "4  monster_Bloomskips_descriptionKey   \n",
       "\n",
       "                                              dev_en        name        Name  \\\n",
       "0  The poisonous sweat that Arnu produces causes ...        arnu        Arnu   \n",
       "1  Aurinia belongs to a dynasty of druids. She is...     aurinia     Aurinia   \n",
       "2  The rocks are alive! The Beefcake is the most ...    beefcake    Beefcake   \n",
       "3  The Blesstle, the Water Realm's ambassadors of...    blesstle    Blesstle   \n",
       "4  Bloomskips feel at home when popping out of da...  bloomskips  Bloomskips   \n",
       "\n",
       "    Gender  \n",
       "0     male  \n",
       "1   female  \n",
       "2  neutral  \n",
       "3  neutral  \n",
       "4     male  "
      ]
     },
     "execution_count": 17,
     "metadata": {},
     "output_type": "execute_result"
    }
   ],
   "source": [
    "df.head()"
   ]
  },
  {
   "cell_type": "code",
   "execution_count": 18,
   "metadata": {},
   "outputs": [],
   "source": [
    "male = (df\n",
    "       .query(\"Gender == 'male'\"))"
   ]
  },
  {
   "cell_type": "code",
   "execution_count": 19,
   "metadata": {},
   "outputs": [
    {
     "data": {
      "text/plain": [
       "(356, 5)"
      ]
     },
     "execution_count": 19,
     "metadata": {},
     "output_type": "execute_result"
    }
   ],
   "source": [
    "male.shape"
   ]
  },
  {
   "cell_type": "code",
   "execution_count": 20,
   "metadata": {},
   "outputs": [],
   "source": [
    "female = (df\n",
    "       .query(\"Gender == 'female'\"))"
   ]
  },
  {
   "cell_type": "code",
   "execution_count": 56,
   "metadata": {},
   "outputs": [
    {
     "data": {
      "text/plain": [
       "(98, 5)"
      ]
     },
     "execution_count": 56,
     "metadata": {},
     "output_type": "execute_result"
    }
   ],
   "source": [
    "female.shape"
   ]
  },
  {
   "cell_type": "code",
   "execution_count": 58,
   "metadata": {},
   "outputs": [
    {
     "data": {
      "text/html": [
       "<div>\n",
       "<style scoped>\n",
       "    .dataframe tbody tr th:only-of-type {\n",
       "        vertical-align: middle;\n",
       "    }\n",
       "\n",
       "    .dataframe tbody tr th {\n",
       "        vertical-align: top;\n",
       "    }\n",
       "\n",
       "    .dataframe thead th {\n",
       "        text-align: right;\n",
       "    }\n",
       "</style>\n",
       "<table border=\"1\" class=\"dataframe\">\n",
       "  <thead>\n",
       "    <tr style=\"text-align: right;\">\n",
       "      <th></th>\n",
       "      <th>key</th>\n",
       "      <th>dev_en</th>\n",
       "      <th>name</th>\n",
       "      <th>Name</th>\n",
       "      <th>Gender</th>\n",
       "    </tr>\n",
       "  </thead>\n",
       "  <tbody>\n",
       "    <tr>\n",
       "      <th>1</th>\n",
       "      <td>monster_Aurinia_descriptionKey</td>\n",
       "      <td>Aurinia belongs to a dynasty of druids. She is...</td>\n",
       "      <td>aurinia</td>\n",
       "      <td>Aurinia</td>\n",
       "      <td>female</td>\n",
       "    </tr>\n",
       "    <tr>\n",
       "      <th>5</th>\n",
       "      <td>monster_Bonbon_descriptionKey</td>\n",
       "      <td>Legends tell of the greatest monster in the wo...</td>\n",
       "      <td>bonbon</td>\n",
       "      <td>Bonbon</td>\n",
       "      <td>female</td>\n",
       "    </tr>\n",
       "    <tr>\n",
       "      <th>17</th>\n",
       "      <td>monster_Duchess_descriptionKey</td>\n",
       "      <td>Rockin' royalty! The Duchess of Disaster, the ...</td>\n",
       "      <td>duchess</td>\n",
       "      <td>Duchess</td>\n",
       "      <td>female</td>\n",
       "    </tr>\n",
       "    <tr>\n",
       "      <th>21</th>\n",
       "      <td>monster_Esthirel_descriptionKey</td>\n",
       "      <td>She used to protect the weak by healing and ta...</td>\n",
       "      <td>esthirel</td>\n",
       "      <td>Esthirel</td>\n",
       "      <td>female</td>\n",
       "    </tr>\n",
       "    <tr>\n",
       "      <th>22</th>\n",
       "      <td>monster_Fayemelina_descriptionKey</td>\n",
       "      <td>The most fun, charming and beautiful monster o...</td>\n",
       "      <td>fayemelina</td>\n",
       "      <td>Fayemelina</td>\n",
       "      <td>female</td>\n",
       "    </tr>\n",
       "  </tbody>\n",
       "</table>\n",
       "</div>"
      ],
      "text/plain": [
       "                                  key  \\\n",
       "1      monster_Aurinia_descriptionKey   \n",
       "5       monster_Bonbon_descriptionKey   \n",
       "17     monster_Duchess_descriptionKey   \n",
       "21    monster_Esthirel_descriptionKey   \n",
       "22  monster_Fayemelina_descriptionKey   \n",
       "\n",
       "                                               dev_en        name        Name  \\\n",
       "1   Aurinia belongs to a dynasty of druids. She is...     aurinia     Aurinia   \n",
       "5   Legends tell of the greatest monster in the wo...      bonbon      Bonbon   \n",
       "17  Rockin' royalty! The Duchess of Disaster, the ...     duchess     Duchess   \n",
       "21  She used to protect the weak by healing and ta...    esthirel    Esthirel   \n",
       "22  The most fun, charming and beautiful monster o...  fayemelina  Fayemelina   \n",
       "\n",
       "    Gender  \n",
       "1   female  \n",
       "5   female  \n",
       "17  female  \n",
       "21  female  \n",
       "22  female  "
      ]
     },
     "execution_count": 58,
     "metadata": {},
     "output_type": "execute_result"
    }
   ],
   "source": [
    "female.head()"
   ]
  },
  {
   "cell_type": "code",
   "execution_count": 22,
   "metadata": {},
   "outputs": [],
   "source": [
    "neutral = (df\n",
    "       .query(\"Gender == 'neutral'\"))"
   ]
  },
  {
   "cell_type": "code",
   "execution_count": 23,
   "metadata": {},
   "outputs": [
    {
     "data": {
      "text/plain": [
       "(139, 5)"
      ]
     },
     "execution_count": 23,
     "metadata": {},
     "output_type": "execute_result"
    }
   ],
   "source": [
    "neutral.shape"
   ]
  },
  {
   "cell_type": "code",
   "execution_count": 24,
   "metadata": {},
   "outputs": [],
   "source": [
    "# Male "
   ]
  },
  {
   "cell_type": "code",
   "execution_count": 25,
   "metadata": {},
   "outputs": [],
   "source": [
    "m = (male\n",
    "    .assign(desc_clean= lambda x: x['dev_en'].str.lower()\n",
    "    ))"
   ]
  },
  {
   "cell_type": "code",
   "execution_count": 26,
   "metadata": {
    "scrolled": true
   },
   "outputs": [
    {
     "data": {
      "text/html": [
       "<div>\n",
       "<style scoped>\n",
       "    .dataframe tbody tr th:only-of-type {\n",
       "        vertical-align: middle;\n",
       "    }\n",
       "\n",
       "    .dataframe tbody tr th {\n",
       "        vertical-align: top;\n",
       "    }\n",
       "\n",
       "    .dataframe thead th {\n",
       "        text-align: right;\n",
       "    }\n",
       "</style>\n",
       "<table border=\"1\" class=\"dataframe\">\n",
       "  <thead>\n",
       "    <tr style=\"text-align: right;\">\n",
       "      <th></th>\n",
       "      <th>key</th>\n",
       "      <th>dev_en</th>\n",
       "      <th>name</th>\n",
       "      <th>Name</th>\n",
       "      <th>Gender</th>\n",
       "      <th>desc_clean</th>\n",
       "    </tr>\n",
       "  </thead>\n",
       "  <tbody>\n",
       "    <tr>\n",
       "      <th>0</th>\n",
       "      <td>monster_Arnu_descriptionKey</td>\n",
       "      <td>The poisonous sweat that Arnu produces causes ...</td>\n",
       "      <td>arnu</td>\n",
       "      <td>Arnu</td>\n",
       "      <td>male</td>\n",
       "      <td>the poisonous sweat that arnu produces causes ...</td>\n",
       "    </tr>\n",
       "    <tr>\n",
       "      <th>4</th>\n",
       "      <td>monster_Bloomskips_descriptionKey</td>\n",
       "      <td>Bloomskips feel at home when popping out of da...</td>\n",
       "      <td>bloomskips</td>\n",
       "      <td>Bloomskips</td>\n",
       "      <td>male</td>\n",
       "      <td>bloomskips feel at home when popping out of da...</td>\n",
       "    </tr>\n",
       "    <tr>\n",
       "      <th>6</th>\n",
       "      <td>monster_Boneticore_descriptionKey</td>\n",
       "      <td>The threat of the Boneticore is not in his jaw...</td>\n",
       "      <td>boneticore</td>\n",
       "      <td>Boneticore</td>\n",
       "      <td>male</td>\n",
       "      <td>the threat of the boneticore is not in his jaw...</td>\n",
       "    </tr>\n",
       "    <tr>\n",
       "      <th>7</th>\n",
       "      <td>monster_Bumblesnout_descriptionKey</td>\n",
       "      <td>A swamp dweller with no known predators. Bumbl...</td>\n",
       "      <td>bumblesnout</td>\n",
       "      <td>Bumblesnout</td>\n",
       "      <td>male</td>\n",
       "      <td>a swamp dweller with no known predators. bumbl...</td>\n",
       "    </tr>\n",
       "    <tr>\n",
       "      <th>8</th>\n",
       "      <td>monster_Crux_descriptionKey</td>\n",
       "      <td>The perfect combination between metal and a pl...</td>\n",
       "      <td>crux</td>\n",
       "      <td>Crux</td>\n",
       "      <td>male</td>\n",
       "      <td>the perfect combination between metal and a pl...</td>\n",
       "    </tr>\n",
       "  </tbody>\n",
       "</table>\n",
       "</div>"
      ],
      "text/plain": [
       "                                  key  \\\n",
       "0         monster_Arnu_descriptionKey   \n",
       "4   monster_Bloomskips_descriptionKey   \n",
       "6   monster_Boneticore_descriptionKey   \n",
       "7  monster_Bumblesnout_descriptionKey   \n",
       "8         monster_Crux_descriptionKey   \n",
       "\n",
       "                                              dev_en         name  \\\n",
       "0  The poisonous sweat that Arnu produces causes ...         arnu   \n",
       "4  Bloomskips feel at home when popping out of da...   bloomskips   \n",
       "6  The threat of the Boneticore is not in his jaw...   boneticore   \n",
       "7  A swamp dweller with no known predators. Bumbl...  bumblesnout   \n",
       "8  The perfect combination between metal and a pl...         crux   \n",
       "\n",
       "          Name Gender                                         desc_clean  \n",
       "0         Arnu   male  the poisonous sweat that arnu produces causes ...  \n",
       "4   Bloomskips   male  bloomskips feel at home when popping out of da...  \n",
       "6   Boneticore   male  the threat of the boneticore is not in his jaw...  \n",
       "7  Bumblesnout   male  a swamp dweller with no known predators. bumbl...  \n",
       "8         Crux   male  the perfect combination between metal and a pl...  "
      ]
     },
     "execution_count": 26,
     "metadata": {},
     "output_type": "execute_result"
    }
   ],
   "source": [
    "m.head()"
   ]
  },
  {
   "cell_type": "code",
   "execution_count": 65,
   "metadata": {},
   "outputs": [],
   "source": [
    "def get_adjectives(df):\n",
    "\n",
    "    list_desc = list(df['desc_clean'])\n",
    "    text_desc = ''.join(list_desc)\n",
    "    td = re.sub(r'[^\\w\\s]','', text_desc)\n",
    "    \n",
    "    tm_tokens = word_tokenize(td)\n",
    "\n",
    "    tm_tokens_without_sw = [word for word in tm_tokens if not word in stopwords.words()]\n",
    "    \n",
    "    tm_without_sw = ' '.join(tm_tokens_without_sw)\n",
    "    \n",
    "    adjectives = get_adjectives(tm_without_sw)\n",
    "    \n",
    "    adj = ' '.join(adjectives)\n",
    "    return adj"
   ]
  },
  {
   "cell_type": "code",
   "execution_count": null,
   "metadata": {},
   "outputs": [],
   "source": [
    "def clean_and_tokenize_desc(df):\n",
    "    f = (df\n",
    "    .assign(desc_clean= lambda x: x['dev_en'].str.lower()\n",
    "    ))\n",
    "    \n",
    "    list_desc = list(df['desc_clean'])\n",
    "    text_desc = ''.join(list_desc)\n",
    "    td = re.sub(r'[^\\w\\s]','', text_desc)\n",
    "    \n",
    "    tm_tokens = word_tokenize(td)\n",
    "    return tm_tokens"
   ]
  },
  {
   "cell_type": "code",
   "execution_count": 66,
   "metadata": {},
   "outputs": [
    {
     "data": {
      "text/html": [
       "<div>\n",
       "<style scoped>\n",
       "    .dataframe tbody tr th:only-of-type {\n",
       "        vertical-align: middle;\n",
       "    }\n",
       "\n",
       "    .dataframe tbody tr th {\n",
       "        vertical-align: top;\n",
       "    }\n",
       "\n",
       "    .dataframe thead th {\n",
       "        text-align: right;\n",
       "    }\n",
       "</style>\n",
       "<table border=\"1\" class=\"dataframe\">\n",
       "  <thead>\n",
       "    <tr style=\"text-align: right;\">\n",
       "      <th></th>\n",
       "      <th>key</th>\n",
       "      <th>dev_en</th>\n",
       "      <th>name</th>\n",
       "      <th>Name</th>\n",
       "      <th>Gender</th>\n",
       "      <th>desc_clean</th>\n",
       "    </tr>\n",
       "  </thead>\n",
       "  <tbody>\n",
       "    <tr>\n",
       "      <th>1</th>\n",
       "      <td>monster_Aurinia_descriptionKey</td>\n",
       "      <td>Aurinia belongs to a dynasty of druids. She is...</td>\n",
       "      <td>aurinia</td>\n",
       "      <td>Aurinia</td>\n",
       "      <td>female</td>\n",
       "      <td>aurinia belongs to a dynasty of druids. she is...</td>\n",
       "    </tr>\n",
       "    <tr>\n",
       "      <th>5</th>\n",
       "      <td>monster_Bonbon_descriptionKey</td>\n",
       "      <td>Legends tell of the greatest monster in the wo...</td>\n",
       "      <td>bonbon</td>\n",
       "      <td>Bonbon</td>\n",
       "      <td>female</td>\n",
       "      <td>legends tell of the greatest monster in the wo...</td>\n",
       "    </tr>\n",
       "    <tr>\n",
       "      <th>17</th>\n",
       "      <td>monster_Duchess_descriptionKey</td>\n",
       "      <td>Rockin' royalty! The Duchess of Disaster, the ...</td>\n",
       "      <td>duchess</td>\n",
       "      <td>Duchess</td>\n",
       "      <td>female</td>\n",
       "      <td>rockin' royalty! the duchess of disaster, the ...</td>\n",
       "    </tr>\n",
       "    <tr>\n",
       "      <th>21</th>\n",
       "      <td>monster_Esthirel_descriptionKey</td>\n",
       "      <td>She used to protect the weak by healing and ta...</td>\n",
       "      <td>esthirel</td>\n",
       "      <td>Esthirel</td>\n",
       "      <td>female</td>\n",
       "      <td>she used to protect the weak by healing and ta...</td>\n",
       "    </tr>\n",
       "    <tr>\n",
       "      <th>22</th>\n",
       "      <td>monster_Fayemelina_descriptionKey</td>\n",
       "      <td>The most fun, charming and beautiful monster o...</td>\n",
       "      <td>fayemelina</td>\n",
       "      <td>Fayemelina</td>\n",
       "      <td>female</td>\n",
       "      <td>the most fun, charming and beautiful monster o...</td>\n",
       "    </tr>\n",
       "  </tbody>\n",
       "</table>\n",
       "</div>"
      ],
      "text/plain": [
       "                                  key  \\\n",
       "1      monster_Aurinia_descriptionKey   \n",
       "5       monster_Bonbon_descriptionKey   \n",
       "17     monster_Duchess_descriptionKey   \n",
       "21    monster_Esthirel_descriptionKey   \n",
       "22  monster_Fayemelina_descriptionKey   \n",
       "\n",
       "                                               dev_en        name        Name  \\\n",
       "1   Aurinia belongs to a dynasty of druids. She is...     aurinia     Aurinia   \n",
       "5   Legends tell of the greatest monster in the wo...      bonbon      Bonbon   \n",
       "17  Rockin' royalty! The Duchess of Disaster, the ...     duchess     Duchess   \n",
       "21  She used to protect the weak by healing and ta...    esthirel    Esthirel   \n",
       "22  The most fun, charming and beautiful monster o...  fayemelina  Fayemelina   \n",
       "\n",
       "    Gender                                         desc_clean  \n",
       "1   female  aurinia belongs to a dynasty of druids. she is...  \n",
       "5   female  legends tell of the greatest monster in the wo...  \n",
       "17  female  rockin' royalty! the duchess of disaster, the ...  \n",
       "21  female  she used to protect the weak by healing and ta...  \n",
       "22  female  the most fun, charming and beautiful monster o...  "
      ]
     },
     "execution_count": 66,
     "metadata": {},
     "output_type": "execute_result"
    }
   ],
   "source": [
    "f = (female\n",
    "    .assign(desc_clean= lambda x: x['dev_en'].str.lower()\n",
    "    ))\n",
    "    \n",
    "f.head()"
   ]
  },
  {
   "cell_type": "code",
   "execution_count": 67,
   "metadata": {},
   "outputs": [
    {
     "name": "stdout",
     "output_type": "stream",
     "text": [
      "<class 'pandas.core.frame.DataFrame'>\n",
      "<class 'str'>\n"
     ]
    },
    {
     "ename": "TypeError",
     "evalue": "string indices must be integers",
     "output_type": "error",
     "traceback": [
      "\u001b[0;31m---------------------------------------------------------------------------\u001b[0m",
      "\u001b[0;31mTypeError\u001b[0m                                 Traceback (most recent call last)",
      "\u001b[0;32m<ipython-input-67-ccecfca4e349>\u001b[0m in \u001b[0;36m<module>\u001b[0;34m\u001b[0m\n\u001b[0;32m----> 1\u001b[0;31m \u001b[0madj_female\u001b[0m \u001b[0;34m=\u001b[0m \u001b[0mget_adjectives\u001b[0m\u001b[0;34m(\u001b[0m\u001b[0mf\u001b[0m\u001b[0;34m)\u001b[0m\u001b[0;34m\u001b[0m\u001b[0;34m\u001b[0m\u001b[0m\n\u001b[0m",
      "\u001b[0;32m<ipython-input-65-6e6e10d48a5d>\u001b[0m in \u001b[0;36mget_adjectives\u001b[0;34m(df)\u001b[0m\n\u001b[1;32m     11\u001b[0m     \u001b[0mtm_without_sw\u001b[0m \u001b[0;34m=\u001b[0m \u001b[0;34m' '\u001b[0m\u001b[0;34m.\u001b[0m\u001b[0mjoin\u001b[0m\u001b[0;34m(\u001b[0m\u001b[0mtm_tokens_without_sw\u001b[0m\u001b[0;34m)\u001b[0m\u001b[0;34m\u001b[0m\u001b[0;34m\u001b[0m\u001b[0m\n\u001b[1;32m     12\u001b[0m \u001b[0;34m\u001b[0m\u001b[0m\n\u001b[0;32m---> 13\u001b[0;31m     \u001b[0madjectives\u001b[0m \u001b[0;34m=\u001b[0m \u001b[0mget_adjectives\u001b[0m\u001b[0;34m(\u001b[0m\u001b[0mtm_without_sw\u001b[0m\u001b[0;34m)\u001b[0m\u001b[0;34m\u001b[0m\u001b[0;34m\u001b[0m\u001b[0m\n\u001b[0m\u001b[1;32m     14\u001b[0m \u001b[0;34m\u001b[0m\u001b[0m\n\u001b[1;32m     15\u001b[0m     \u001b[0madj\u001b[0m \u001b[0;34m=\u001b[0m \u001b[0;34m' '\u001b[0m\u001b[0;34m.\u001b[0m\u001b[0mjoin\u001b[0m\u001b[0;34m(\u001b[0m\u001b[0madjectives\u001b[0m\u001b[0;34m)\u001b[0m\u001b[0;34m\u001b[0m\u001b[0;34m\u001b[0m\u001b[0m\n",
      "\u001b[0;32m<ipython-input-65-6e6e10d48a5d>\u001b[0m in \u001b[0;36mget_adjectives\u001b[0;34m(df)\u001b[0m\n\u001b[1;32m      1\u001b[0m \u001b[0;32mdef\u001b[0m \u001b[0mget_adjectives\u001b[0m\u001b[0;34m(\u001b[0m\u001b[0mdf\u001b[0m\u001b[0;34m)\u001b[0m\u001b[0;34m:\u001b[0m\u001b[0;34m\u001b[0m\u001b[0;34m\u001b[0m\u001b[0m\n\u001b[1;32m      2\u001b[0m     \u001b[0mprint\u001b[0m\u001b[0;34m(\u001b[0m\u001b[0mtype\u001b[0m\u001b[0;34m(\u001b[0m\u001b[0mdf\u001b[0m\u001b[0;34m)\u001b[0m\u001b[0;34m)\u001b[0m\u001b[0;34m\u001b[0m\u001b[0;34m\u001b[0m\u001b[0m\n\u001b[0;32m----> 3\u001b[0;31m     \u001b[0mlist_desc\u001b[0m \u001b[0;34m=\u001b[0m \u001b[0mlist\u001b[0m\u001b[0;34m(\u001b[0m\u001b[0mdf\u001b[0m\u001b[0;34m[\u001b[0m\u001b[0;34m'desc_clean'\u001b[0m\u001b[0;34m]\u001b[0m\u001b[0;34m)\u001b[0m\u001b[0;34m\u001b[0m\u001b[0;34m\u001b[0m\u001b[0m\n\u001b[0m\u001b[1;32m      4\u001b[0m     \u001b[0mtext_desc\u001b[0m \u001b[0;34m=\u001b[0m \u001b[0;34m''\u001b[0m\u001b[0;34m.\u001b[0m\u001b[0mjoin\u001b[0m\u001b[0;34m(\u001b[0m\u001b[0mlist_desc\u001b[0m\u001b[0;34m)\u001b[0m\u001b[0;34m\u001b[0m\u001b[0;34m\u001b[0m\u001b[0m\n\u001b[1;32m      5\u001b[0m     \u001b[0mtd\u001b[0m \u001b[0;34m=\u001b[0m \u001b[0mre\u001b[0m\u001b[0;34m.\u001b[0m\u001b[0msub\u001b[0m\u001b[0;34m(\u001b[0m\u001b[0;34mr'[^\\w\\s]'\u001b[0m\u001b[0;34m,\u001b[0m\u001b[0;34m''\u001b[0m\u001b[0;34m,\u001b[0m \u001b[0mtext_desc\u001b[0m\u001b[0;34m)\u001b[0m\u001b[0;34m\u001b[0m\u001b[0;34m\u001b[0m\u001b[0m\n",
      "\u001b[0;31mTypeError\u001b[0m: string indices must be integers"
     ]
    }
   ],
   "source": [
    "adj_female = get_adjectives(f)"
   ]
  },
  {
   "cell_type": "code",
   "execution_count": 27,
   "metadata": {},
   "outputs": [],
   "source": [
    "list_male = list(m['desc_clean'])\n",
    "text_male = ''.join(list_male)"
   ]
  },
  {
   "cell_type": "code",
   "execution_count": 28,
   "metadata": {},
   "outputs": [],
   "source": [
    "tm = re.sub(r'[^\\w\\s]','',text_male)"
   ]
  },
  {
   "cell_type": "code",
   "execution_count": 29,
   "metadata": {},
   "outputs": [
    {
     "data": {
      "text/plain": [
       "'the poisonous sweat that arnu produces causes hallucinations and is so powerful that it can even affect himself he has to clean himself frequently to stay in controlbloomskips feel at home when popping out of dark tight spaces like pipes just hope that you arent a plumber or hes coming for youthe threat of the boneticore is not in his jaws but in his tail boneticores tail is also his weak spot only the most experienced hunters have survived an encounter with this dangerous beasta swamp dweller with no known predators bumblesnouts main quality is his patience he knows that he does not possess the strongest attacks but the longer you face him the more dangerous he becomesthe perfect combination between metal and a plant crux has the best of both elements he can heal his partners with his nature power but he can also injure the enemies with his dangerous metal rootshard to pronounce harder to kill the almighty great old one is awoken the worst nightmares of all the inhabitants of the new '"
      ]
     },
     "execution_count": 29,
     "metadata": {},
     "output_type": "execute_result"
    }
   ],
   "source": [
    "#tm[:1000]"
   ]
  },
  {
   "cell_type": "code",
   "execution_count": 30,
   "metadata": {},
   "outputs": [],
   "source": [
    "tm_tokens = word_tokenize(tm)\n",
    "\n",
    "tm_tokens_without_sw = [word for word in tm_tokens if not word in stopwords.words()]\n"
   ]
  },
  {
   "cell_type": "code",
   "execution_count": 31,
   "metadata": {},
   "outputs": [
    {
     "data": {
      "text/plain": [
       "['poisonous',\n",
       " 'sweat',\n",
       " 'arnu',\n",
       " 'produces',\n",
       " 'causes',\n",
       " 'hallucinations',\n",
       " 'powerful',\n",
       " 'even',\n",
       " 'affect',\n",
       " 'clean']"
      ]
     },
     "execution_count": 31,
     "metadata": {},
     "output_type": "execute_result"
    }
   ],
   "source": [
    "tm_tokens_without_sw[:10]"
   ]
  },
  {
   "cell_type": "code",
   "execution_count": 32,
   "metadata": {},
   "outputs": [],
   "source": [
    "tm_without_sw = ' '.join(tm_tokens_without_sw)"
   ]
  },
  {
   "cell_type": "code",
   "execution_count": 40,
   "metadata": {},
   "outputs": [],
   "source": [
    "#tm_without_sw"
   ]
  },
  {
   "cell_type": "code",
   "execution_count": 35,
   "metadata": {},
   "outputs": [],
   "source": [
    "def get_adjectives(text):\n",
    "    blob = TextBlob(text)\n",
    "    return [ word for (word,tag) in blob.tags if tag == \"JJ\"]\n",
    "\n",
    "#df['adjectives'] = df['reviews'].apply(get_adjectives)"
   ]
  },
  {
   "cell_type": "code",
   "execution_count": 36,
   "metadata": {},
   "outputs": [],
   "source": [
    "adjectives = get_adjectives(tm_without_sw)"
   ]
  },
  {
   "cell_type": "code",
   "execution_count": 39,
   "metadata": {},
   "outputs": [],
   "source": [
    "adj = ' '.join(adjectives)"
   ]
  },
  {
   "cell_type": "code",
   "execution_count": 42,
   "metadata": {
    "scrolled": true
   },
   "outputs": [],
   "source": [
    "#adj"
   ]
  },
  {
   "cell_type": "code",
   "execution_count": 41,
   "metadata": {},
   "outputs": [
    {
     "data": {
      "image/png": "[encoded data removed]",
      "text/plain": [
       "<Figure size 432x288 with 1 Axes>"
      ]
     },
     "metadata": {
      "needs_background": "light"
     },
     "output_type": "display_data"
    }
   ],
   "source": [
    "wordcloud = WordCloud(stopwords=STOPWORDS).generate(adj)\n",
    "plt.imshow(wordcloud, interpolation='bilinear')\n",
    "plt.axis(\"off\")\n",
    "plt.show()"
   ]
  },
  {
   "cell_type": "code",
   "execution_count": 47,
   "metadata": {},
   "outputs": [],
   "source": [
    "common_words = ['new', 'little', 'many']\n",
    "adjectives_without_common_words = [word for word in adjectives if not word in common_words]"
   ]
  },
  {
   "cell_type": "code",
   "execution_count": 48,
   "metadata": {},
   "outputs": [],
   "source": [
    "adj_without_common_words = ' '.join(adjectives_without_common_words)"
   ]
  },
  {
   "cell_type": "code",
   "execution_count": 49,
   "metadata": {},
   "outputs": [
    {
     "data": {
      "image/png": "[encoded data removed]",
      "text/plain": [
       "<Figure size 432x288 with 1 Axes>"
      ]
     },
     "metadata": {
      "needs_background": "light"
     },
     "output_type": "display_data"
    }
   ],
   "source": [
    "wordcloud = WordCloud(stopwords=STOPWORDS).generate(adj_without_common_words)\n",
    "plt.imshow(wordcloud, interpolation='bilinear')\n",
    "plt.axis(\"off\")\n",
    "plt.show()"
   ]
  },
  {
   "cell_type": "code",
   "execution_count": null,
   "metadata": {},
   "outputs": [],
   "source": []
  },
  {
   "cell_type": "code",
   "execution_count": null,
   "metadata": {},
   "outputs": [],
   "source": []
  },
  {
   "cell_type": "code",
   "execution_count": null,
   "metadata": {},
   "outputs": [],
   "source": []
  },
  {
   "cell_type": "code",
   "execution_count": 43,
   "metadata": {},
   "outputs": [],
   "source": [
    "#ss = data[['key', 'dev_en']]"
   ]
  },
  {
   "cell_type": "code",
   "execution_count": 187,
   "metadata": {},
   "outputs": [],
   "source": [
    "ss = data[data['key'].str.contains(\"descriptionKey\")]"
   ]
  },
  {
   "cell_type": "code",
   "execution_count": 188,
   "metadata": {
    "scrolled": false
   },
   "outputs": [
    {
     "data": {
      "text/html": [
       "<div>\n",
       "<style scoped>\n",
       "    .dataframe tbody tr th:only-of-type {\n",
       "        vertical-align: middle;\n",
       "    }\n",
       "\n",
       "    .dataframe tbody tr th {\n",
       "        vertical-align: top;\n",
       "    }\n",
       "\n",
       "    .dataframe thead th {\n",
       "        text-align: right;\n",
       "    }\n",
       "</style>\n",
       "<table border=\"1\" class=\"dataframe\">\n",
       "  <thead>\n",
       "    <tr style=\"text-align: right;\">\n",
       "      <th></th>\n",
       "      <th>key</th>\n",
       "      <th>dev_en</th>\n",
       "      <th>gender</th>\n",
       "    </tr>\n",
       "  </thead>\n",
       "  <tbody>\n",
       "    <tr>\n",
       "      <th>0</th>\n",
       "      <td>monster_AoLoong_descriptionKey</td>\n",
       "      <td>Tired of being a New-Year-Parade Dragon, Ao Lo...</td>\n",
       "      <td>m</td>\n",
       "    </tr>\n",
       "    <tr>\n",
       "      <th>1</th>\n",
       "      <td>monster_ArchKnight_descriptionKey</td>\n",
       "      <td>Behold the defender of light!  This apparition...</td>\n",
       "      <td>n</td>\n",
       "    </tr>\n",
       "    <tr>\n",
       "      <th>2</th>\n",
       "      <td>monster_Arnu_descriptionKey</td>\n",
       "      <td>The poisonous sweat that Arnu produces causes ...</td>\n",
       "      <td>m</td>\n",
       "    </tr>\n",
       "    <tr>\n",
       "      <th>3</th>\n",
       "      <td>monster_Aurinia_descriptionKey</td>\n",
       "      <td>Aurinia belongs to a dynasty of druids. She is...</td>\n",
       "      <td>f</td>\n",
       "    </tr>\n",
       "    <tr>\n",
       "      <th>4</th>\n",
       "      <td>monster_Beefcake_descriptionKey</td>\n",
       "      <td>The rocks are alive! The Beefcake is the most ...</td>\n",
       "      <td>n</td>\n",
       "    </tr>\n",
       "  </tbody>\n",
       "</table>\n",
       "</div>"
      ],
      "text/plain": [
       "                                 key  \\\n",
       "0     monster_AoLoong_descriptionKey   \n",
       "1  monster_ArchKnight_descriptionKey   \n",
       "2        monster_Arnu_descriptionKey   \n",
       "3     monster_Aurinia_descriptionKey   \n",
       "4    monster_Beefcake_descriptionKey   \n",
       "\n",
       "                                              dev_en gender  \n",
       "0  Tired of being a New-Year-Parade Dragon, Ao Lo...      m  \n",
       "1  Behold the defender of light!  This apparition...      n  \n",
       "2  The poisonous sweat that Arnu produces causes ...      m  \n",
       "3  Aurinia belongs to a dynasty of druids. She is...      f  \n",
       "4  The rocks are alive! The Beefcake is the most ...      n  "
      ]
     },
     "execution_count": 188,
     "metadata": {},
     "output_type": "execute_result"
    }
   ],
   "source": [
    "ss.head()"
   ]
  },
  {
   "cell_type": "code",
   "execution_count": 189,
   "metadata": {},
   "outputs": [
    {
     "data": {
      "text/plain": [
       "(2526, 3)"
      ]
     },
     "execution_count": 189,
     "metadata": {},
     "output_type": "execute_result"
    }
   ],
   "source": [
    "ss.shape"
   ]
  },
  {
   "cell_type": "code",
   "execution_count": 190,
   "metadata": {},
   "outputs": [],
   "source": [
    "des = ss['dev_en']"
   ]
  },
  {
   "cell_type": "code",
   "execution_count": 191,
   "metadata": {},
   "outputs": [],
   "source": [
    "des1 = []\n",
    "for string in des:\n",
    "    new = string.replace(\"-\", \" \")\n",
    "    new = new.replace(\".\", \"\")\n",
    "    new = new.replace(\"!\", \"\")\n",
    "    new = new.replace(\"'\", \"\")\n",
    "    new = new.replace(\",\", \"\")\n",
    "    new = new.lower()\n",
    "#    new1 = new.split(\" \")\n",
    "    des1.append(new.split())"
   ]
  },
  {
   "cell_type": "code",
   "execution_count": 199,
   "metadata": {},
   "outputs": [],
   "source": [
    "#des1[0:10]"
   ]
  },
  {
   "cell_type": "code",
   "execution_count": 192,
   "metadata": {
    "scrolled": true
   },
   "outputs": [
    {
     "name": "stderr",
     "output_type": "stream",
     "text": [
      "<ipython-input-192-59178ac23dc8>:1: VisibleDeprecationWarning: Creating an ndarray from ragged nested sequences (which is a list-or-tuple of lists-or-tuples-or ndarrays with different lengths or shapes) is deprecated. If you meant to do this, you must specify 'dtype=object' when creating the ndarray\n",
      "  des2 = np.array(des1)\n"
     ]
    },
    {
     "data": {
      "text/plain": [
       "(2526,)"
      ]
     },
     "execution_count": 192,
     "metadata": {},
     "output_type": "execute_result"
    }
   ],
   "source": [
    "des2 = np.array(des1)\n",
    "des2.shape"
   ]
  },
  {
   "cell_type": "code",
   "execution_count": 193,
   "metadata": {},
   "outputs": [],
   "source": [
    "text_list = list(des2)"
   ]
  },
  {
   "cell_type": "code",
   "execution_count": 197,
   "metadata": {},
   "outputs": [
    {
     "data": {
      "text/plain": [
       "[['tired',\n",
       "  'of',\n",
       "  'being',\n",
       "  'a',\n",
       "  'new',\n",
       "  'year',\n",
       "  'parade',\n",
       "  'dragon',\n",
       "  'ao',\n",
       "  'loong',\n",
       "  'has',\n",
       "  'decided',\n",
       "  'to',\n",
       "  'break',\n",
       "  'away',\n",
       "  'from',\n",
       "  'his',\n",
       "  'chains',\n",
       "  'and',\n",
       "  'start',\n",
       "  'his',\n",
       "  'own',\n",
       "  'adventure',\n",
       "  'on',\n",
       "  'this',\n",
       "  'land',\n",
       "  'full',\n",
       "  'of',\n",
       "  'monsters']]"
      ]
     },
     "execution_count": 197,
     "metadata": {},
     "output_type": "execute_result"
    }
   ],
   "source": [
    "text_list[:1]"
   ]
  },
  {
   "cell_type": "code",
   "execution_count": 194,
   "metadata": {},
   "outputs": [],
   "source": [
    "vectorizer = TfidfVectorizer()"
   ]
  },
  {
   "cell_type": "code",
   "execution_count": 195,
   "metadata": {},
   "outputs": [
    {
     "ename": "AttributeError",
     "evalue": "'list' object has no attribute 'lower'",
     "output_type": "error",
     "traceback": [
      "\u001b[0;31m---------------------------------------------------------------------------\u001b[0m",
      "\u001b[0;31mAttributeError\u001b[0m                            Traceback (most recent call last)",
      "\u001b[0;32m<ipython-input-195-1972ac4204cf>\u001b[0m in \u001b[0;36m<module>\u001b[0;34m\u001b[0m\n\u001b[0;32m----> 1\u001b[0;31m \u001b[0mvectorizer\u001b[0m\u001b[0;34m.\u001b[0m\u001b[0mfit\u001b[0m\u001b[0;34m(\u001b[0m\u001b[0mtext_list\u001b[0m\u001b[0;34m)\u001b[0m\u001b[0;34m\u001b[0m\u001b[0;34m\u001b[0m\u001b[0m\n\u001b[0m\u001b[1;32m      2\u001b[0m \u001b[0;31m# summarize\u001b[0m\u001b[0;34m\u001b[0m\u001b[0;34m\u001b[0m\u001b[0;34m\u001b[0m\u001b[0m\n\u001b[1;32m      3\u001b[0m \u001b[0;31m#print(vectorizer.vocabulary_)\u001b[0m\u001b[0;34m\u001b[0m\u001b[0;34m\u001b[0m\u001b[0;34m\u001b[0m\u001b[0m\n\u001b[1;32m      4\u001b[0m \u001b[0;31m#print(vectorizer.idf_)\u001b[0m\u001b[0;34m\u001b[0m\u001b[0;34m\u001b[0m\u001b[0;34m\u001b[0m\u001b[0m\n",
      "\u001b[0;32m/Library/Frameworks/Python.framework/Versions/3.8/lib/python3.8/site-packages/sklearn/feature_extraction/text.py\u001b[0m in \u001b[0;36mfit\u001b[0;34m(self, raw_documents, y)\u001b[0m\n\u001b[1;32m   1815\u001b[0m         \u001b[0mself\u001b[0m\u001b[0;34m.\u001b[0m\u001b[0m_check_params\u001b[0m\u001b[0;34m(\u001b[0m\u001b[0;34m)\u001b[0m\u001b[0;34m\u001b[0m\u001b[0;34m\u001b[0m\u001b[0m\n\u001b[1;32m   1816\u001b[0m         \u001b[0mself\u001b[0m\u001b[0;34m.\u001b[0m\u001b[0m_warn_for_unused_params\u001b[0m\u001b[0;34m(\u001b[0m\u001b[0;34m)\u001b[0m\u001b[0;34m\u001b[0m\u001b[0;34m\u001b[0m\u001b[0m\n\u001b[0;32m-> 1817\u001b[0;31m         \u001b[0mX\u001b[0m \u001b[0;34m=\u001b[0m \u001b[0msuper\u001b[0m\u001b[0;34m(\u001b[0m\u001b[0;34m)\u001b[0m\u001b[0;34m.\u001b[0m\u001b[0mfit_transform\u001b[0m\u001b[0;34m(\u001b[0m\u001b[0mraw_documents\u001b[0m\u001b[0;34m)\u001b[0m\u001b[0;34m\u001b[0m\u001b[0;34m\u001b[0m\u001b[0m\n\u001b[0m\u001b[1;32m   1818\u001b[0m         \u001b[0mself\u001b[0m\u001b[0;34m.\u001b[0m\u001b[0m_tfidf\u001b[0m\u001b[0;34m.\u001b[0m\u001b[0mfit\u001b[0m\u001b[0;34m(\u001b[0m\u001b[0mX\u001b[0m\u001b[0;34m)\u001b[0m\u001b[0;34m\u001b[0m\u001b[0;34m\u001b[0m\u001b[0m\n\u001b[1;32m   1819\u001b[0m         \u001b[0;32mreturn\u001b[0m \u001b[0mself\u001b[0m\u001b[0;34m\u001b[0m\u001b[0;34m\u001b[0m\u001b[0m\n",
      "\u001b[0;32m/Library/Frameworks/Python.framework/Versions/3.8/lib/python3.8/site-packages/sklearn/feature_extraction/text.py\u001b[0m in \u001b[0;36mfit_transform\u001b[0;34m(self, raw_documents, y)\u001b[0m\n\u001b[1;32m   1196\u001b[0m         \u001b[0mmax_features\u001b[0m \u001b[0;34m=\u001b[0m \u001b[0mself\u001b[0m\u001b[0;34m.\u001b[0m\u001b[0mmax_features\u001b[0m\u001b[0;34m\u001b[0m\u001b[0;34m\u001b[0m\u001b[0m\n\u001b[1;32m   1197\u001b[0m \u001b[0;34m\u001b[0m\u001b[0m\n\u001b[0;32m-> 1198\u001b[0;31m         vocabulary, X = self._count_vocab(raw_documents,\n\u001b[0m\u001b[1;32m   1199\u001b[0m                                           self.fixed_vocabulary_)\n\u001b[1;32m   1200\u001b[0m \u001b[0;34m\u001b[0m\u001b[0m\n",
      "\u001b[0;32m/Library/Frameworks/Python.framework/Versions/3.8/lib/python3.8/site-packages/sklearn/feature_extraction/text.py\u001b[0m in \u001b[0;36m_count_vocab\u001b[0;34m(self, raw_documents, fixed_vocab)\u001b[0m\n\u001b[1;32m   1108\u001b[0m         \u001b[0;32mfor\u001b[0m \u001b[0mdoc\u001b[0m \u001b[0;32min\u001b[0m \u001b[0mraw_documents\u001b[0m\u001b[0;34m:\u001b[0m\u001b[0;34m\u001b[0m\u001b[0;34m\u001b[0m\u001b[0m\n\u001b[1;32m   1109\u001b[0m             \u001b[0mfeature_counter\u001b[0m \u001b[0;34m=\u001b[0m \u001b[0;34m{\u001b[0m\u001b[0;34m}\u001b[0m\u001b[0;34m\u001b[0m\u001b[0;34m\u001b[0m\u001b[0m\n\u001b[0;32m-> 1110\u001b[0;31m             \u001b[0;32mfor\u001b[0m \u001b[0mfeature\u001b[0m \u001b[0;32min\u001b[0m \u001b[0manalyze\u001b[0m\u001b[0;34m(\u001b[0m\u001b[0mdoc\u001b[0m\u001b[0;34m)\u001b[0m\u001b[0;34m:\u001b[0m\u001b[0;34m\u001b[0m\u001b[0;34m\u001b[0m\u001b[0m\n\u001b[0m\u001b[1;32m   1111\u001b[0m                 \u001b[0;32mtry\u001b[0m\u001b[0;34m:\u001b[0m\u001b[0;34m\u001b[0m\u001b[0;34m\u001b[0m\u001b[0m\n\u001b[1;32m   1112\u001b[0m                     \u001b[0mfeature_idx\u001b[0m \u001b[0;34m=\u001b[0m \u001b[0mvocabulary\u001b[0m\u001b[0;34m[\u001b[0m\u001b[0mfeature\u001b[0m\u001b[0;34m]\u001b[0m\u001b[0;34m\u001b[0m\u001b[0;34m\u001b[0m\u001b[0m\n",
      "\u001b[0;32m/Library/Frameworks/Python.framework/Versions/3.8/lib/python3.8/site-packages/sklearn/feature_extraction/text.py\u001b[0m in \u001b[0;36m_analyze\u001b[0;34m(doc, analyzer, tokenizer, ngrams, preprocessor, decoder, stop_words)\u001b[0m\n\u001b[1;32m    102\u001b[0m     \u001b[0;32melse\u001b[0m\u001b[0;34m:\u001b[0m\u001b[0;34m\u001b[0m\u001b[0;34m\u001b[0m\u001b[0m\n\u001b[1;32m    103\u001b[0m         \u001b[0;32mif\u001b[0m \u001b[0mpreprocessor\u001b[0m \u001b[0;32mis\u001b[0m \u001b[0;32mnot\u001b[0m \u001b[0;32mNone\u001b[0m\u001b[0;34m:\u001b[0m\u001b[0;34m\u001b[0m\u001b[0;34m\u001b[0m\u001b[0m\n\u001b[0;32m--> 104\u001b[0;31m             \u001b[0mdoc\u001b[0m \u001b[0;34m=\u001b[0m \u001b[0mpreprocessor\u001b[0m\u001b[0;34m(\u001b[0m\u001b[0mdoc\u001b[0m\u001b[0;34m)\u001b[0m\u001b[0;34m\u001b[0m\u001b[0;34m\u001b[0m\u001b[0m\n\u001b[0m\u001b[1;32m    105\u001b[0m         \u001b[0;32mif\u001b[0m \u001b[0mtokenizer\u001b[0m \u001b[0;32mis\u001b[0m \u001b[0;32mnot\u001b[0m \u001b[0;32mNone\u001b[0m\u001b[0;34m:\u001b[0m\u001b[0;34m\u001b[0m\u001b[0;34m\u001b[0m\u001b[0m\n\u001b[1;32m    106\u001b[0m             \u001b[0mdoc\u001b[0m \u001b[0;34m=\u001b[0m \u001b[0mtokenizer\u001b[0m\u001b[0;34m(\u001b[0m\u001b[0mdoc\u001b[0m\u001b[0;34m)\u001b[0m\u001b[0;34m\u001b[0m\u001b[0;34m\u001b[0m\u001b[0m\n",
      "\u001b[0;32m/Library/Frameworks/Python.framework/Versions/3.8/lib/python3.8/site-packages/sklearn/feature_extraction/text.py\u001b[0m in \u001b[0;36m_preprocess\u001b[0;34m(doc, accent_function, lower)\u001b[0m\n\u001b[1;32m     67\u001b[0m     \"\"\"\n\u001b[1;32m     68\u001b[0m     \u001b[0;32mif\u001b[0m \u001b[0mlower\u001b[0m\u001b[0;34m:\u001b[0m\u001b[0;34m\u001b[0m\u001b[0;34m\u001b[0m\u001b[0m\n\u001b[0;32m---> 69\u001b[0;31m         \u001b[0mdoc\u001b[0m \u001b[0;34m=\u001b[0m \u001b[0mdoc\u001b[0m\u001b[0;34m.\u001b[0m\u001b[0mlower\u001b[0m\u001b[0;34m(\u001b[0m\u001b[0;34m)\u001b[0m\u001b[0;34m\u001b[0m\u001b[0;34m\u001b[0m\u001b[0m\n\u001b[0m\u001b[1;32m     70\u001b[0m     \u001b[0;32mif\u001b[0m \u001b[0maccent_function\u001b[0m \u001b[0;32mis\u001b[0m \u001b[0;32mnot\u001b[0m \u001b[0;32mNone\u001b[0m\u001b[0;34m:\u001b[0m\u001b[0;34m\u001b[0m\u001b[0;34m\u001b[0m\u001b[0m\n\u001b[1;32m     71\u001b[0m         \u001b[0mdoc\u001b[0m \u001b[0;34m=\u001b[0m \u001b[0maccent_function\u001b[0m\u001b[0;34m(\u001b[0m\u001b[0mdoc\u001b[0m\u001b[0;34m)\u001b[0m\u001b[0;34m\u001b[0m\u001b[0;34m\u001b[0m\u001b[0m\n",
      "\u001b[0;31mAttributeError\u001b[0m: 'list' object has no attribute 'lower'"
     ]
    }
   ],
   "source": [
    "vectorizer.fit(text_list)\n",
    "# summarize\n",
    "#print(vectorizer.vocabulary_)\n",
    "#print(vectorizer.idf_)"
   ]
  },
  {
   "cell_type": "code",
   "execution_count": 159,
   "metadata": {},
   "outputs": [],
   "source": [
    "for count, text in enumerate(text_list):\n",
    "    #print(count)\n",
    "    #print(text)\n",
    "    vector = vectorizer.transform([text_list[count]])\n",
    "    vector = vector.toarray()\n",
    "    #print(vector.shape)\n",
    "    #print(vector.toarray())\n",
    "    if count == 0:       \n",
    "        final = vector.reshape(1,5753)\n",
    "    else:\n",
    "        vector = vector.reshape(1,5753)\n",
    "        final = np.concatenate([final, vector], axis=0)"
   ]
  },
  {
   "cell_type": "code",
   "execution_count": 160,
   "metadata": {},
   "outputs": [
    {
     "data": {
      "text/plain": [
       "(8136, 5753)"
      ]
     },
     "execution_count": 160,
     "metadata": {},
     "output_type": "execute_result"
    }
   ],
   "source": [
    "final.shape"
   ]
  },
  {
   "cell_type": "code",
   "execution_count": 166,
   "metadata": {},
   "outputs": [
    {
     "data": {
      "text/plain": [
       "(5022, 4)"
      ]
     },
     "execution_count": 166,
     "metadata": {},
     "output_type": "execute_result"
    }
   ],
   "source": [
    "d_array = np.array(data)\n",
    "d_array.shape\n",
    "#fin = np.concatenate"
   ]
  },
  {
   "cell_type": "code",
   "execution_count": 129,
   "metadata": {},
   "outputs": [],
   "source": [
    "z = vector.toarray()"
   ]
  },
  {
   "cell_type": "code",
   "execution_count": 141,
   "metadata": {},
   "outputs": [
    {
     "name": "stdout",
     "output_type": "stream",
     "text": [
      "(1, 5753)\n"
     ]
    }
   ],
   "source": [
    "y = z.reshape(1,5753)\n",
    "print(y.shape)"
   ]
  },
  {
   "cell_type": "code",
   "execution_count": 63,
   "metadata": {},
   "outputs": [],
   "source": [
    "d = {'clean': des2}\n",
    "df = pd.DataFrame(data=d)"
   ]
  },
  {
   "cell_type": "code",
   "execution_count": 65,
   "metadata": {},
   "outputs": [],
   "source": [
    "data['clean']=df"
   ]
  },
  {
   "cell_type": "code",
   "execution_count": 103,
   "metadata": {
    "scrolled": true
   },
   "outputs": [
    {
     "data": {
      "text/plain": [
       "'behold the defender of light  this apparition is rumoured to have some very very powerful connection in the netherworlds if youre lucky enough to have this knight saviour appear before you   youll be truly blessed in battle'"
      ]
     },
     "execution_count": 103,
     "metadata": {},
     "output_type": "execute_result"
    }
   ],
   "source": [
    "data.clean[1]"
   ]
  },
  {
   "cell_type": "code",
   "execution_count": 115,
   "metadata": {},
   "outputs": [],
   "source": [
    "train = data[data['gender'].notna()]\n",
    "test = data[data['gender'].isna()]"
   ]
  },
  {
   "cell_type": "code",
   "execution_count": 116,
   "metadata": {},
   "outputs": [
    {
     "data": {
      "text/html": [
       "<div>\n",
       "<style scoped>\n",
       "    .dataframe tbody tr th:only-of-type {\n",
       "        vertical-align: middle;\n",
       "    }\n",
       "\n",
       "    .dataframe tbody tr th {\n",
       "        vertical-align: top;\n",
       "    }\n",
       "\n",
       "    .dataframe thead th {\n",
       "        text-align: right;\n",
       "    }\n",
       "</style>\n",
       "<table border=\"1\" class=\"dataframe\">\n",
       "  <thead>\n",
       "    <tr style=\"text-align: right;\">\n",
       "      <th></th>\n",
       "      <th>key</th>\n",
       "      <th>dev_en</th>\n",
       "      <th>gender</th>\n",
       "      <th>clean</th>\n",
       "    </tr>\n",
       "  </thead>\n",
       "  <tbody>\n",
       "    <tr>\n",
       "      <th>0</th>\n",
       "      <td>monster_AoLoong_descriptionKey</td>\n",
       "      <td>Tired of being a New-Year-Parade Dragon, Ao Lo...</td>\n",
       "      <td>m</td>\n",
       "      <td>tired of being a new year parade dragon ao loo...</td>\n",
       "    </tr>\n",
       "    <tr>\n",
       "      <th>1</th>\n",
       "      <td>monster_ArchKnight_descriptionKey</td>\n",
       "      <td>Behold the defender of light!  This apparition...</td>\n",
       "      <td>n</td>\n",
       "      <td>behold the defender of light  this apparition ...</td>\n",
       "    </tr>\n",
       "    <tr>\n",
       "      <th>2</th>\n",
       "      <td>monster_Arnu_descriptionKey</td>\n",
       "      <td>The poisonous sweat that Arnu produces causes ...</td>\n",
       "      <td>m</td>\n",
       "      <td>the poisonous sweat that arnu produces causes ...</td>\n",
       "    </tr>\n",
       "    <tr>\n",
       "      <th>3</th>\n",
       "      <td>monster_Aurinia_descriptionKey</td>\n",
       "      <td>Aurinia belongs to a dynasty of druids. She is...</td>\n",
       "      <td>f</td>\n",
       "      <td>aurinia belongs to a dynasty of druids she is ...</td>\n",
       "    </tr>\n",
       "    <tr>\n",
       "      <th>4</th>\n",
       "      <td>monster_Beefcake_descriptionKey</td>\n",
       "      <td>The rocks are alive! The Beefcake is the most ...</td>\n",
       "      <td>n</td>\n",
       "      <td>the rocks are alive the beefcake is the most r...</td>\n",
       "    </tr>\n",
       "  </tbody>\n",
       "</table>\n",
       "</div>"
      ],
      "text/plain": [
       "                                 key  \\\n",
       "0     monster_AoLoong_descriptionKey   \n",
       "1  monster_ArchKnight_descriptionKey   \n",
       "2        monster_Arnu_descriptionKey   \n",
       "3     monster_Aurinia_descriptionKey   \n",
       "4    monster_Beefcake_descriptionKey   \n",
       "\n",
       "                                              dev_en gender  \\\n",
       "0  Tired of being a New-Year-Parade Dragon, Ao Lo...      m   \n",
       "1  Behold the defender of light!  This apparition...      n   \n",
       "2  The poisonous sweat that Arnu produces causes ...      m   \n",
       "3  Aurinia belongs to a dynasty of druids. She is...      f   \n",
       "4  The rocks are alive! The Beefcake is the most ...      n   \n",
       "\n",
       "                                               clean  \n",
       "0  tired of being a new year parade dragon ao loo...  \n",
       "1  behold the defender of light  this apparition ...  \n",
       "2  the poisonous sweat that arnu produces causes ...  \n",
       "3  aurinia belongs to a dynasty of druids she is ...  \n",
       "4  the rocks are alive the beefcake is the most r...  "
      ]
     },
     "execution_count": 116,
     "metadata": {},
     "output_type": "execute_result"
    }
   ],
   "source": [
    "train.head()"
   ]
  },
  {
   "cell_type": "code",
   "execution_count": 92,
   "metadata": {},
   "outputs": [],
   "source": [
    "X_train_tok= [text.split() for text in train['clean']]\n",
    "X_test_tok= [text.split() for text in test['clean']]"
   ]
  },
  {
   "cell_type": "code",
   "execution_count": 113,
   "metadata": {},
   "outputs": [],
   "source": [
    "tfidf_vectorizer = TfidfVectorizer(use_idf=True)\n",
    "X_train_vectors_tfidf = tfidf_vectorizer.fit_transform(train)\n",
    "X_test_vectors_tfidf = tfidf_vectorizer.fit_transform(test) "
   ]
  },
  {
   "cell_type": "code",
   "execution_count": 114,
   "metadata": {},
   "outputs": [
    {
     "data": {
      "text/plain": [
       "['clean', 'dev_en', 'gender', 'key']"
      ]
     },
     "execution_count": 114,
     "metadata": {},
     "output_type": "execute_result"
    }
   ],
   "source": [
    "tfidf_vectorizer.get_feature_names()"
   ]
  },
  {
   "cell_type": "code",
   "execution_count": 105,
   "metadata": {},
   "outputs": [],
   "source": [
    "#building Word2Vec model\n",
    "class MeanEmbeddingVectorizer(object):\n",
    "    def __init__(self, word2vec):\n",
    "        self.word2vec = word2vec\n",
    "        # if a text is empty we should return a vector of zeros\n",
    "        # with the same dimensionality as all the other vectors\n",
    "        self.dim = len(next(iter(word2vec.values())))\n",
    "def fit(self, X, y):\n",
    "        return self\n",
    "def transform(self, X):\n",
    "        return np.array([\n",
    "            np.mean([self.word2vec[w] for w in words if w in self.word2vec]\n",
    "                    or [np.zeros(self.dim)], axis=0)\n",
    "            for words in X\n",
    "        ])\n",
    "#w2v = dict(zip(model.wv.index2word, model.wv.syn0)) \n",
    "#data['clean_text_tok']=[nltk.word_tokenize(i) for i in df['clean_text']]\n",
    "model = Word2Vec(data['clean'],min_count=1)     \n",
    "#modelw = MeanEmbeddingVectorizer(w2v)\n",
    "# converting text to numerical data using Word2Vec\n",
    "#X_train_vectors_w2v = modelw.transform(X_train_tok)\n",
    "#X_val_vectors_w2v = modelw.transform(X_test_tok)"
   ]
  },
  {
   "cell_type": "code",
   "execution_count": 106,
   "metadata": {},
   "outputs": [
    {
     "data": {
      "text/plain": [
       "<gensim.models.word2vec.Word2Vec at 0x7faa69ae7c10>"
      ]
     },
     "execution_count": 106,
     "metadata": {},
     "output_type": "execute_result"
    }
   ],
   "source": [
    "model"
   ]
  },
  {
   "cell_type": "code",
   "execution_count": 80,
   "metadata": {},
   "outputs": [
    {
     "data": {
      "text/plain": [
       "(4822, 4)"
      ]
     },
     "execution_count": 80,
     "metadata": {},
     "output_type": "execute_result"
    }
   ],
   "source": [
    "test.shape"
   ]
  },
  {
   "cell_type": "code",
   "execution_count": null,
   "metadata": {},
   "outputs": [],
   "source": []
  },
  {
   "cell_type": "code",
   "execution_count": 28,
   "metadata": {},
   "outputs": [],
   "source": [
    "dictionary = Dictionary(des1)"
   ]
  },
  {
   "cell_type": "code",
   "execution_count": 30,
   "metadata": {},
   "outputs": [],
   "source": [
    "corpus = [dictionary.doc2bow(doc) for doc in des1]"
   ]
  },
  {
   "cell_type": "code",
   "execution_count": 56,
   "metadata": {},
   "outputs": [
    {
     "data": {
      "text/plain": [
       "[[(0, 1),\n",
       "  (1, 1),\n",
       "  (2, 1),\n",
       "  (3, 1),\n",
       "  (4, 1),\n",
       "  (5, 1),\n",
       "  (6, 1),\n",
       "  (7, 1),\n",
       "  (8, 1),\n",
       "  (9, 1),\n",
       "  (10, 1),\n",
       "  (11, 1),\n",
       "  (12, 1),\n",
       "  (13, 2),\n",
       "  (14, 1),\n",
       "  (15, 1),\n",
       "  (16, 1),\n",
       "  (17, 1),\n",
       "  (18, 2),\n",
       "  (19, 1),\n",
       "  (20, 1),\n",
       "  (21, 1),\n",
       "  (22, 1),\n",
       "  (23, 1),\n",
       "  (24, 1),\n",
       "  (25, 1),\n",
       "  (26, 1)],\n",
       " [(18, 1),\n",
       "  (23, 2),\n",
       "  (25, 2),\n",
       "  (27, 1),\n",
       "  (28, 1),\n",
       "  (29, 1),\n",
       "  (30, 1),\n",
       "  (31, 1),\n",
       "  (32, 1),\n",
       "  (33, 1),\n",
       "  (34, 1),\n",
       "  (35, 1),\n",
       "  (36, 1),\n",
       "  (37, 2),\n",
       "  (38, 1),\n",
       "  (39, 2),\n",
       "  (40, 1),\n",
       "  (41, 1),\n",
       "  (42, 1),\n",
       "  (43, 1),\n",
       "  (44, 1),\n",
       "  (45, 1),\n",
       "  (46, 1),\n",
       "  (47, 1),\n",
       "  (48, 1),\n",
       "  (49, 2),\n",
       "  (50, 1),\n",
       "  (51, 2),\n",
       "  (52, 1),\n",
       "  (53, 1),\n",
       "  (54, 1)],\n",
       " [(2, 1),\n",
       "  (12, 1),\n",
       "  (25, 2),\n",
       "  (39, 1),\n",
       "  (40, 1),\n",
       "  (45, 1),\n",
       "  (49, 1),\n",
       "  (55, 1),\n",
       "  (56, 1),\n",
       "  (57, 1),\n",
       "  (58, 1),\n",
       "  (59, 1),\n",
       "  (60, 1),\n",
       "  (61, 1),\n",
       "  (62, 1),\n",
       "  (63, 1),\n",
       "  (64, 1),\n",
       "  (65, 2),\n",
       "  (66, 1),\n",
       "  (67, 1),\n",
       "  (68, 1),\n",
       "  (69, 1),\n",
       "  (70, 1),\n",
       "  (71, 1),\n",
       "  (72, 2)]]"
      ]
     },
     "execution_count": 56,
     "metadata": {},
     "output_type": "execute_result"
    }
   ],
   "source": [
    "#corpus[0:3]"
   ]
  },
  {
   "cell_type": "code",
   "execution_count": null,
   "metadata": {},
   "outputs": [],
   "source": []
  },
  {
   "cell_type": "code",
   "execution_count": 9,
   "metadata": {},
   "outputs": [
    {
     "name": "stdout",
     "output_type": "stream",
     "text": [
      "(16526, 2)\n",
      "16526\n"
     ]
    }
   ],
   "source": [
    "print(ss.shape)\n",
    "keys = ss.shape[0]\n",
    "print(keys)"
   ]
  },
  {
   "cell_type": "code",
   "execution_count": null,
   "metadata": {},
   "outputs": [],
   "source": []
  },
  {
   "cell_type": "code",
   "execution_count": 41,
   "metadata": {},
   "outputs": [],
   "source": [
    "key = ss[:keys, 0]"
   ]
  },
  {
   "cell_type": "code",
   "execution_count": 42,
   "metadata": {
    "scrolled": true
   },
   "outputs": [
    {
     "data": {
      "text/plain": [
       "(16526,)"
      ]
     },
     "execution_count": 42,
     "metadata": {},
     "output_type": "execute_result"
    }
   ],
   "source": [
    "key.shape"
   ]
  },
  {
   "cell_type": "code",
   "execution_count": 43,
   "metadata": {},
   "outputs": [],
   "source": [
    "key1 = []\n",
    "for string in key:\n",
    "    new = string.split(\"_\")\n",
    "    key1.append(new)"
   ]
  },
  {
   "cell_type": "code",
   "execution_count": 63,
   "metadata": {},
   "outputs": [
    {
     "data": {
      "text/plain": [
       "['monster', 'AoLoong', 'nameKey']"
      ]
     },
     "execution_count": 63,
     "metadata": {},
     "output_type": "execute_result"
    }
   ],
   "source": [
    "key1[1]"
   ]
  },
  {
   "cell_type": "code",
   "execution_count": 45,
   "metadata": {},
   "outputs": [],
   "source": [
    "accepted_keys = [\"nameKey\", \"descriptionKey\"]\n",
    "key2 = []\n",
    "for sentence in key1:\n",
    "    for word in sentence:\n",
    "        #print(word)\n",
    "        if word in accepted_keys:\n",
    "            key2.append(word)\n",
    "        else:\n",
    "            next"
   ]
  },
  {
   "cell_type": "code",
   "execution_count": 70,
   "metadata": {},
   "outputs": [],
   "source": [
    "types = ['monster', 'specialSkill', 'skill', 'item']\n",
    "key3 = []\n",
    "for sentence in key1:\n",
    "    for word in sentence:\n",
    "        #print(word)\n",
    "        if word in types:\n",
    "            key3.append(word)\n",
    "        else:\n",
    "            next"
   ]
  },
  {
   "cell_type": "code",
   "execution_count": 71,
   "metadata": {},
   "outputs": [
    {
     "data": {
      "text/plain": [
       "16424"
      ]
     },
     "execution_count": 71,
     "metadata": {},
     "output_type": "execute_result"
    }
   ],
   "source": [
    "len(key3)"
   ]
  },
  {
   "cell_type": "code",
   "execution_count": 69,
   "metadata": {},
   "outputs": [
    {
     "data": {
      "text/plain": [
       "16304"
      ]
     },
     "execution_count": 69,
     "metadata": {},
     "output_type": "execute_result"
    }
   ],
   "source": [
    "len(key2)"
   ]
  },
  {
   "cell_type": "code",
   "execution_count": 47,
   "metadata": {},
   "outputs": [],
   "source": [
    "des = ss[:keys, 1]"
   ]
  },
  {
   "cell_type": "code",
   "execution_count": 48,
   "metadata": {},
   "outputs": [
    {
     "data": {
      "text/plain": [
       "'Tired of being a New-Year-Parade Dragon, Ao Loong has decided to break away from his chains and start his own adventure on this land full of monsters.'"
      ]
     },
     "execution_count": 48,
     "metadata": {},
     "output_type": "execute_result"
    }
   ],
   "source": [
    "des[0]"
   ]
  },
  {
   "cell_type": "code",
   "execution_count": 49,
   "metadata": {},
   "outputs": [],
   "source": [
    "#des[0].split(\" \")"
   ]
  },
  {
   "cell_type": "code",
   "execution_count": 50,
   "metadata": {},
   "outputs": [],
   "source": [
    "des1 = []\n",
    "for string in des:\n",
    "    new = string.replace(\"-\", \" \")\n",
    "    new = new.replace(\".\", \"\")\n",
    "    new = new.replace(\"!\", \"\")\n",
    "    new = new.replace(\"'\", \"\")\n",
    "    new = new.replace(\",\", \"\")\n",
    "    new = new.lower()\n",
    "#    new1 = new.split(\" \")\n",
    "    des1.append(new)\n"
   ]
  },
  {
   "cell_type": "code",
   "execution_count": 51,
   "metadata": {},
   "outputs": [],
   "source": [
    "#des"
   ]
  },
  {
   "cell_type": "code",
   "execution_count": 52,
   "metadata": {},
   "outputs": [],
   "source": [
    "data[\"key_clean\"]=pd.DataFrame(key2)\n",
    "data[\"des_clean\"]=pd.DataFrame(des1)"
   ]
  },
  {
   "cell_type": "code",
   "execution_count": 53,
   "metadata": {
    "scrolled": true
   },
   "outputs": [
    {
     "data": {
      "text/html": [
       "<div>\n",
       "<style scoped>\n",
       "    .dataframe tbody tr th:only-of-type {\n",
       "        vertical-align: middle;\n",
       "    }\n",
       "\n",
       "    .dataframe tbody tr th {\n",
       "        vertical-align: top;\n",
       "    }\n",
       "\n",
       "    .dataframe thead th {\n",
       "        text-align: right;\n",
       "    }\n",
       "</style>\n",
       "<table border=\"1\" class=\"dataframe\">\n",
       "  <thead>\n",
       "    <tr style=\"text-align: right;\">\n",
       "      <th></th>\n",
       "      <th>key</th>\n",
       "      <th>dev_en</th>\n",
       "      <th>sp_status</th>\n",
       "      <th>sp_exclude</th>\n",
       "      <th>sp_deployed_mobile</th>\n",
       "      <th>sp_deployed_canvas</th>\n",
       "      <th>sp_screenshot</th>\n",
       "      <th>sp_character_limit</th>\n",
       "      <th>sp_proofread</th>\n",
       "      <th>sp_add_in_version</th>\n",
       "      <th>...</th>\n",
       "      <th>ln_ko</th>\n",
       "      <th>ln_pt</th>\n",
       "      <th>ln_ru</th>\n",
       "      <th>ln_tr</th>\n",
       "      <th>ln_zh</th>\n",
       "      <th>ln_es-MX</th>\n",
       "      <th>ln_fi</th>\n",
       "      <th>Unnamed: 24</th>\n",
       "      <th>key_clean</th>\n",
       "      <th>des_clean</th>\n",
       "    </tr>\n",
       "  </thead>\n",
       "  <tbody>\n",
       "    <tr>\n",
       "      <th>0</th>\n",
       "      <td>monster_AoLoong_descriptionKey</td>\n",
       "      <td>Tired of being a New-Year-Parade Dragon, Ao Lo...</td>\n",
       "      <td>DONE</td>\n",
       "      <td>NaN</td>\n",
       "      <td>x</td>\n",
       "      <td>x</td>\n",
       "      <td>NaN</td>\n",
       "      <td>NaN</td>\n",
       "      <td>x</td>\n",
       "      <td>NaN</td>\n",
       "      <td>...</td>\n",
       "      <td>새해 퍼레이드 드래곤 역할에 지친 아오 룽은 체인을 끊고 탈출하여 몬스터가 가득한 ...</td>\n",
       "      <td>Ao Loong estava cansado de ser o dragão do Des...</td>\n",
       "      <td>Устав работать драконом на китайском новогодне...</td>\n",
       "      <td>Yeni Yıl Alayı Ejderhası olmaktan sıkılan Ao L...</td>\n",
       "      <td>敖龙厌倦了街头舞龙的命运，他决心挣脱锁链出逃，在这个怪兽林立的地方闯荡。</td>\n",
       "      <td>Cansado de que lo utilicen en los desfiles de ...</td>\n",
       "      <td>Uudenvuodenparaatilohikäärmeenä toimimiseen vä...</td>\n",
       "      <td>NaN</td>\n",
       "      <td>descriptionKey</td>\n",
       "      <td>tired of being a new year parade dragon ao loo...</td>\n",
       "    </tr>\n",
       "    <tr>\n",
       "      <th>1</th>\n",
       "      <td>monster_AoLoong_nameKey</td>\n",
       "      <td>Ao Loong</td>\n",
       "      <td>DONE</td>\n",
       "      <td>NaN</td>\n",
       "      <td>x</td>\n",
       "      <td>x</td>\n",
       "      <td>NaN</td>\n",
       "      <td>NaN</td>\n",
       "      <td>x</td>\n",
       "      <td>NaN</td>\n",
       "      <td>...</td>\n",
       "      <td>아오 룽</td>\n",
       "      <td>Ao Loong</td>\n",
       "      <td>Ао Лунг</td>\n",
       "      <td>Ao Loong</td>\n",
       "      <td>敖龙</td>\n",
       "      <td>Ao Loong</td>\n",
       "      <td>Ao Loong</td>\n",
       "      <td>NaN</td>\n",
       "      <td>nameKey</td>\n",
       "      <td>ao loong</td>\n",
       "    </tr>\n",
       "    <tr>\n",
       "      <th>2</th>\n",
       "      <td>monster_ArchKnight_descriptionKey</td>\n",
       "      <td>Behold the defender of light!  This apparition...</td>\n",
       "      <td>DONE</td>\n",
       "      <td>NaN</td>\n",
       "      <td>x</td>\n",
       "      <td>x</td>\n",
       "      <td>NaN</td>\n",
       "      <td>NaN</td>\n",
       "      <td>NaN</td>\n",
       "      <td>1.1</td>\n",
       "      <td>...</td>\n",
       "      <td>저 빛의 수호자를 보세요! 지하 세계와 아주 강력한 관계를 갖고 있다는 소문이 도는...</td>\n",
       "      <td>Eis o defensor da luz! Dizem que esta aparição...</td>\n",
       "      <td>Узрите защитника света! По слухам, у него есть...</td>\n",
       "      <td>Dikkatli ol, ışığın savunucusu! Bu hayaletin d...</td>\n",
       "      <td>瞧，光的守护者！据说此幻影与冥府有非常强大的联系。如果有幸能看到这名骑士救星在眼前出现，你在...</td>\n",
       "      <td>Contemplen al Defensor de la Luz! Se dice que ...</td>\n",
       "      <td>Katso valon puolustajaa! Tällä olennolla on hu...</td>\n",
       "      <td>NaN</td>\n",
       "      <td>descriptionKey</td>\n",
       "      <td>behold the defender of light  this apparition ...</td>\n",
       "    </tr>\n",
       "    <tr>\n",
       "      <th>3</th>\n",
       "      <td>monster_ArchKnight_nameKey</td>\n",
       "      <td>Arch Knight</td>\n",
       "      <td>DONE</td>\n",
       "      <td>NaN</td>\n",
       "      <td>x</td>\n",
       "      <td>x</td>\n",
       "      <td>NaN</td>\n",
       "      <td>NaN</td>\n",
       "      <td>NaN</td>\n",
       "      <td>1.1</td>\n",
       "      <td>...</td>\n",
       "      <td>수석 기사</td>\n",
       "      <td>Arch Knight</td>\n",
       "      <td>Арк Найт</td>\n",
       "      <td>Arch Knight</td>\n",
       "      <td>高阶骑士</td>\n",
       "      <td>Arch Knight</td>\n",
       "      <td>Arch Knight</td>\n",
       "      <td>NaN</td>\n",
       "      <td>nameKey</td>\n",
       "      <td>arch knight</td>\n",
       "    </tr>\n",
       "    <tr>\n",
       "      <th>4</th>\n",
       "      <td>monster_Arnu_descriptionKey</td>\n",
       "      <td>The poisonous sweat that Arnu produces causes ...</td>\n",
       "      <td>DONE</td>\n",
       "      <td>NaN</td>\n",
       "      <td>x</td>\n",
       "      <td>x</td>\n",
       "      <td>NaN</td>\n",
       "      <td>NaN</td>\n",
       "      <td>x</td>\n",
       "      <td>1.1</td>\n",
       "      <td>...</td>\n",
       "      <td>이 생명체의 땀에는 환각을 일으키는 맹독이 있어 아르누는 정신을 잃고 폭주하곤 합니...</td>\n",
       "      <td>O suor venenoso que emana desta criatura causa...</td>\n",
       "      <td>Ядовитый пот, появляющийся на шкуре этого суще...</td>\n",
       "      <td>Bu yaratığın vücudundan gelen zehirli ter halü...</td>\n",
       "      <td>从亚努身上流出的毒液能够产生幻觉，效果之强让这个生物失控。为了保持清醒，它必须经常进行清洗。</td>\n",
       "      <td>El sudor venenoso que produce Arnu provoca alu...</td>\n",
       "      <td>Arnun myrkyllinen hiki aiheuttaa hallusinaatio...</td>\n",
       "      <td>NaN</td>\n",
       "      <td>descriptionKey</td>\n",
       "      <td>the poisonous sweat that arnu produces causes ...</td>\n",
       "    </tr>\n",
       "  </tbody>\n",
       "</table>\n",
       "<p>5 rows × 27 columns</p>\n",
       "</div>"
      ],
      "text/plain": [
       "                                 key  \\\n",
       "0     monster_AoLoong_descriptionKey   \n",
       "1            monster_AoLoong_nameKey   \n",
       "2  monster_ArchKnight_descriptionKey   \n",
       "3         monster_ArchKnight_nameKey   \n",
       "4        monster_Arnu_descriptionKey   \n",
       "\n",
       "                                              dev_en sp_status sp_exclude  \\\n",
       "0  Tired of being a New-Year-Parade Dragon, Ao Lo...      DONE        NaN   \n",
       "1                                           Ao Loong      DONE        NaN   \n",
       "2  Behold the defender of light!  This apparition...      DONE        NaN   \n",
       "3                                        Arch Knight      DONE        NaN   \n",
       "4  The poisonous sweat that Arnu produces causes ...      DONE        NaN   \n",
       "\n",
       "  sp_deployed_mobile sp_deployed_canvas  sp_screenshot  sp_character_limit  \\\n",
       "0                  x                  x            NaN                 NaN   \n",
       "1                  x                  x            NaN                 NaN   \n",
       "2                  x                  x            NaN                 NaN   \n",
       "3                  x                  x            NaN                 NaN   \n",
       "4                  x                  x            NaN                 NaN   \n",
       "\n",
       "  sp_proofread  sp_add_in_version  ...  \\\n",
       "0            x                NaN  ...   \n",
       "1            x                NaN  ...   \n",
       "2          NaN                1.1  ...   \n",
       "3          NaN                1.1  ...   \n",
       "4            x                1.1  ...   \n",
       "\n",
       "                                               ln_ko  \\\n",
       "0  새해 퍼레이드 드래곤 역할에 지친 아오 룽은 체인을 끊고 탈출하여 몬스터가 가득한 ...   \n",
       "1                                               아오 룽   \n",
       "2  저 빛의 수호자를 보세요! 지하 세계와 아주 강력한 관계를 갖고 있다는 소문이 도는...   \n",
       "3                                              수석 기사   \n",
       "4  이 생명체의 땀에는 환각을 일으키는 맹독이 있어 아르누는 정신을 잃고 폭주하곤 합니...   \n",
       "\n",
       "                                               ln_pt  \\\n",
       "0  Ao Loong estava cansado de ser o dragão do Des...   \n",
       "1                                           Ao Loong   \n",
       "2  Eis o defensor da luz! Dizem que esta aparição...   \n",
       "3                                        Arch Knight   \n",
       "4  O suor venenoso que emana desta criatura causa...   \n",
       "\n",
       "                                               ln_ru  \\\n",
       "0  Устав работать драконом на китайском новогодне...   \n",
       "1                                            Ао Лунг   \n",
       "2  Узрите защитника света! По слухам, у него есть...   \n",
       "3                                           Арк Найт   \n",
       "4  Ядовитый пот, появляющийся на шкуре этого суще...   \n",
       "\n",
       "                                               ln_tr  \\\n",
       "0  Yeni Yıl Alayı Ejderhası olmaktan sıkılan Ao L...   \n",
       "1                                           Ao Loong   \n",
       "2  Dikkatli ol, ışığın savunucusu! Bu hayaletin d...   \n",
       "3                                        Arch Knight   \n",
       "4  Bu yaratığın vücudundan gelen zehirli ter halü...   \n",
       "\n",
       "                                               ln_zh  \\\n",
       "0               敖龙厌倦了街头舞龙的命运，他决心挣脱锁链出逃，在这个怪兽林立的地方闯荡。   \n",
       "1                                                 敖龙   \n",
       "2  瞧，光的守护者！据说此幻影与冥府有非常强大的联系。如果有幸能看到这名骑士救星在眼前出现，你在...   \n",
       "3                                               高阶骑士   \n",
       "4     从亚努身上流出的毒液能够产生幻觉，效果之强让这个生物失控。为了保持清醒，它必须经常进行清洗。   \n",
       "\n",
       "                                            ln_es-MX  \\\n",
       "0  Cansado de que lo utilicen en los desfiles de ...   \n",
       "1                                           Ao Loong   \n",
       "2  Contemplen al Defensor de la Luz! Se dice que ...   \n",
       "3                                        Arch Knight   \n",
       "4  El sudor venenoso que produce Arnu provoca alu...   \n",
       "\n",
       "                                               ln_fi Unnamed: 24  \\\n",
       "0  Uudenvuodenparaatilohikäärmeenä toimimiseen vä...         NaN   \n",
       "1                                           Ao Loong         NaN   \n",
       "2  Katso valon puolustajaa! Tällä olennolla on hu...         NaN   \n",
       "3                                        Arch Knight         NaN   \n",
       "4  Arnun myrkyllinen hiki aiheuttaa hallusinaatio...         NaN   \n",
       "\n",
       "        key_clean                                          des_clean  \n",
       "0  descriptionKey  tired of being a new year parade dragon ao loo...  \n",
       "1         nameKey                                           ao loong  \n",
       "2  descriptionKey  behold the defender of light  this apparition ...  \n",
       "3         nameKey                                        arch knight  \n",
       "4  descriptionKey  the poisonous sweat that arnu produces causes ...  \n",
       "\n",
       "[5 rows x 27 columns]"
      ]
     },
     "execution_count": 53,
     "metadata": {},
     "output_type": "execute_result"
    }
   ],
   "source": [
    "data.head()"
   ]
  },
  {
   "cell_type": "code",
   "execution_count": null,
   "metadata": {},
   "outputs": [],
   "source": [
    "dd = data[data[\"key\"].isin([2, 3])"
   ]
  },
  {
   "cell_type": "code",
   "execution_count": 56,
   "metadata": {},
   "outputs": [],
   "source": [
    "dd = data[['key_clean', 'des_clean']]"
   ]
  },
  {
   "cell_type": "code",
   "execution_count": 57,
   "metadata": {},
   "outputs": [
    {
     "data": {
      "text/html": [
       "<div>\n",
       "<style scoped>\n",
       "    .dataframe tbody tr th:only-of-type {\n",
       "        vertical-align: middle;\n",
       "    }\n",
       "\n",
       "    .dataframe tbody tr th {\n",
       "        vertical-align: top;\n",
       "    }\n",
       "\n",
       "    .dataframe thead th {\n",
       "        text-align: right;\n",
       "    }\n",
       "</style>\n",
       "<table border=\"1\" class=\"dataframe\">\n",
       "  <thead>\n",
       "    <tr style=\"text-align: right;\">\n",
       "      <th></th>\n",
       "      <th>key_clean</th>\n",
       "      <th>des_clean</th>\n",
       "    </tr>\n",
       "  </thead>\n",
       "  <tbody>\n",
       "    <tr>\n",
       "      <th>0</th>\n",
       "      <td>descriptionKey</td>\n",
       "      <td>tired of being a new year parade dragon ao loo...</td>\n",
       "    </tr>\n",
       "    <tr>\n",
       "      <th>1</th>\n",
       "      <td>nameKey</td>\n",
       "      <td>ao loong</td>\n",
       "    </tr>\n",
       "    <tr>\n",
       "      <th>2</th>\n",
       "      <td>descriptionKey</td>\n",
       "      <td>behold the defender of light  this apparition ...</td>\n",
       "    </tr>\n",
       "    <tr>\n",
       "      <th>3</th>\n",
       "      <td>nameKey</td>\n",
       "      <td>arch knight</td>\n",
       "    </tr>\n",
       "    <tr>\n",
       "      <th>4</th>\n",
       "      <td>descriptionKey</td>\n",
       "      <td>the poisonous sweat that arnu produces causes ...</td>\n",
       "    </tr>\n",
       "  </tbody>\n",
       "</table>\n",
       "</div>"
      ],
      "text/plain": [
       "        key_clean                                          des_clean\n",
       "0  descriptionKey  tired of being a new year parade dragon ao loo...\n",
       "1         nameKey                                           ao loong\n",
       "2  descriptionKey  behold the defender of light  this apparition ...\n",
       "3         nameKey                                        arch knight\n",
       "4  descriptionKey  the poisonous sweat that arnu produces causes ..."
      ]
     },
     "execution_count": 57,
     "metadata": {},
     "output_type": "execute_result"
    }
   ],
   "source": [
    "dd.head()"
   ]
  },
  {
   "cell_type": "code",
   "execution_count": 60,
   "metadata": {},
   "outputs": [],
   "source": [
    "dd.to_csv('clean_monsters.csv')"
   ]
  },
  {
   "cell_type": "code",
   "execution_count": null,
   "metadata": {},
   "outputs": [],
   "source": []
  },
  {
   "cell_type": "code",
   "execution_count": null,
   "metadata": {},
   "outputs": [],
   "source": []
  },
  {
   "cell_type": "code",
   "execution_count": null,
   "metadata": {},
   "outputs": [],
   "source": []
  },
  {
   "cell_type": "code",
   "execution_count": 112,
   "metadata": {},
   "outputs": [
    {
     "data": {
      "text/plain": [
       "['water',\n",
       " 'artifact',\n",
       " 'with',\n",
       " 'multiple',\n",
       " 'element',\n",
       " 'attacks',\n",
       " 'and',\n",
       " 'bleed',\n",
       " '',\n",
       " 'shock',\n",
       " '',\n",
       " 'and',\n",
       " 'true',\n",
       " 'damage']"
      ]
     },
     "execution_count": 112,
     "metadata": {},
     "output_type": "execute_result"
    }
   ],
   "source": [
    "new1"
   ]
  },
  {
   "cell_type": "code",
   "execution_count": null,
   "metadata": {},
   "outputs": [],
   "source": []
  },
  {
   "cell_type": "code",
   "execution_count": 29,
   "metadata": {},
   "outputs": [
    {
     "data": {
      "text/plain": [
       "['monster', 'AoLoong', 'descriptionKey']"
      ]
     },
     "execution_count": 29,
     "metadata": {},
     "output_type": "execute_result"
    }
   ],
   "source": [
    "ss[0,0].split(\"_\")"
   ]
  },
  {
   "cell_type": "code",
   "execution_count": null,
   "metadata": {},
   "outputs": [],
   "source": []
  },
  {
   "cell_type": "code",
   "execution_count": 9,
   "metadata": {},
   "outputs": [
    {
     "ename": "AttributeError",
     "evalue": "'Series' object has no attribute 'split'",
     "output_type": "error",
     "traceback": [
      "\u001b[0;31m---------------------------------------------------------------------------\u001b[0m",
      "\u001b[0;31mAttributeError\u001b[0m                            Traceback (most recent call last)",
      "\u001b[0;32m<ipython-input-9-e3907675e195>\u001b[0m in \u001b[0;36m<module>\u001b[0;34m\u001b[0m\n\u001b[0;32m----> 1\u001b[0;31m \u001b[0mss\u001b[0m\u001b[0;34m[\u001b[0m\u001b[0;34m'key2'\u001b[0m\u001b[0;34m]\u001b[0m \u001b[0;34m=\u001b[0m \u001b[0mss\u001b[0m\u001b[0;34m[\u001b[0m\u001b[0;34m'key'\u001b[0m\u001b[0;34m]\u001b[0m\u001b[0;34m.\u001b[0m\u001b[0msplit\u001b[0m\u001b[0;34m(\u001b[0m\u001b[0;34m\"_\"\u001b[0m\u001b[0;34m)\u001b[0m\u001b[0;34m\u001b[0m\u001b[0;34m\u001b[0m\u001b[0m\n\u001b[0m",
      "\u001b[0;32m/Library/Frameworks/Python.framework/Versions/3.8/lib/python3.8/site-packages/pandas/core/generic.py\u001b[0m in \u001b[0;36m__getattr__\u001b[0;34m(self, name)\u001b[0m\n\u001b[1;32m   5272\u001b[0m             \u001b[0;32mif\u001b[0m \u001b[0mself\u001b[0m\u001b[0;34m.\u001b[0m\u001b[0m_info_axis\u001b[0m\u001b[0;34m.\u001b[0m\u001b[0m_can_hold_identifiers_and_holds_name\u001b[0m\u001b[0;34m(\u001b[0m\u001b[0mname\u001b[0m\u001b[0;34m)\u001b[0m\u001b[0;34m:\u001b[0m\u001b[0;34m\u001b[0m\u001b[0;34m\u001b[0m\u001b[0m\n\u001b[1;32m   5273\u001b[0m                 \u001b[0;32mreturn\u001b[0m \u001b[0mself\u001b[0m\u001b[0;34m[\u001b[0m\u001b[0mname\u001b[0m\u001b[0;34m]\u001b[0m\u001b[0;34m\u001b[0m\u001b[0;34m\u001b[0m\u001b[0m\n\u001b[0;32m-> 5274\u001b[0;31m             \u001b[0;32mreturn\u001b[0m \u001b[0mobject\u001b[0m\u001b[0;34m.\u001b[0m\u001b[0m__getattribute__\u001b[0m\u001b[0;34m(\u001b[0m\u001b[0mself\u001b[0m\u001b[0;34m,\u001b[0m \u001b[0mname\u001b[0m\u001b[0;34m)\u001b[0m\u001b[0;34m\u001b[0m\u001b[0;34m\u001b[0m\u001b[0m\n\u001b[0m\u001b[1;32m   5275\u001b[0m \u001b[0;34m\u001b[0m\u001b[0m\n\u001b[1;32m   5276\u001b[0m     \u001b[0;32mdef\u001b[0m \u001b[0m__setattr__\u001b[0m\u001b[0;34m(\u001b[0m\u001b[0mself\u001b[0m\u001b[0;34m,\u001b[0m \u001b[0mname\u001b[0m\u001b[0;34m:\u001b[0m \u001b[0mstr\u001b[0m\u001b[0;34m,\u001b[0m \u001b[0mvalue\u001b[0m\u001b[0;34m)\u001b[0m \u001b[0;34m->\u001b[0m \u001b[0;32mNone\u001b[0m\u001b[0;34m:\u001b[0m\u001b[0;34m\u001b[0m\u001b[0;34m\u001b[0m\u001b[0m\n",
      "\u001b[0;31mAttributeError\u001b[0m: 'Series' object has no attribute 'split'"
     ]
    }
   ],
   "source": [
    "ss['key2'] = ss['key'].split(\"_\")"
   ]
  },
  {
   "cell_type": "code",
   "execution_count": null,
   "metadata": {},
   "outputs": [],
   "source": []
  },
  {
   "cell_type": "code",
   "execution_count": null,
   "metadata": {},
   "outputs": [],
   "source": []
  },
  {
   "cell_type": "code",
   "execution_count": null,
   "metadata": {},
   "outputs": [],
   "source": []
  },
  {
   "cell_type": "code",
   "execution_count": null,
   "metadata": {},
   "outputs": [],
   "source": []
  },
  {
   "cell_type": "code",
   "execution_count": 135,
   "metadata": {},
   "outputs": [
    {
     "name": "stdout",
     "output_type": "stream",
     "text": [
      "(1, 8)\n",
      "[[0.36388646 0.27674503 0.27674503 0.36388646 0.36388646 0.36388646\n",
      "  0.36388646 0.42983441]]\n"
     ]
    }
   ],
   "source": [
    "text = [\"The quick brown fox jumped over the lazy dog.\",\n",
    "\t\t\"The dog.\",\n",
    "\t\t\"The fox\"]\n",
    "# create the transform\n",
    "vectorizer = TfidfVectorizer()\n",
    "# tokenize and build vocab\n",
    "vectorizer.fit(text)\n",
    "# summarize\n",
    "#print(vectorizer.vocabulary_)\n",
    "#print(vectorizer.idf_)\n",
    "# encode document\n",
    "vector = vectorizer.transform([text[0]])\n",
    "# summarize encoded vector\n",
    "print(vector.shape)\n",
    "print(vector.toarray())"
   ]
  },
  {
   "cell_type": "code",
   "execution_count": null,
   "metadata": {},
   "outputs": [],
   "source": []
  },
  {
   "cell_type": "code",
   "execution_count": null,
   "metadata": {},
   "outputs": [],
   "source": []
  },
  {
   "cell_type": "code",
   "execution_count": null,
   "metadata": {},
   "outputs": [],
   "source": []
  }
 ],
 "metadata": {
  "kernelspec": {
   "display_name": "Python 3",
   "language": "python",
   "name": "python3"
  },
  "language_info": {
   "codemirror_mode": {
    "name": "ipython",
    "version": 3
   },
   "file_extension": ".py",
   "mimetype": "text/x-python",
   "name": "python",
   "nbconvert_exporter": "python",
   "pygments_lexer": "ipython3",
   "version": "3.8.3"
  }
 },
 "nbformat": 4,
 "nbformat_minor": 4
}
